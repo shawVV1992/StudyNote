{
 "cells": [
  {
   "cell_type": "markdown",
   "source": [
    "# 第一章 预备知识"
   ],
   "metadata": {
    "collapsed": false
   },
   "id": "e485faaee80f3f9b"
  },
  {
   "cell_type": "markdown",
   "source": [
    "## 1.1 Python基础"
   ],
   "metadata": {
    "collapsed": false
   },
   "id": "96b4cbff4b72ae59"
  },
  {
   "cell_type": "markdown",
   "source": [
    "### 1.1.1 推导式"
   ],
   "metadata": {
    "collapsed": false
   },
   "id": "68f8423a53113342"
  },
  {
   "cell_type": "code",
   "execution_count": 82,
   "outputs": [
    {
     "data": {
      "text/plain": "{'green': 5, 'black': 5, 'white': 5, 'red': 3, 'bule': 4}"
     },
     "execution_count": 82,
     "metadata": {},
     "output_type": "execute_result"
    }
   ],
   "source": [
    "# exp_1\n",
    "str_list = [\"green\", \"black\", \"white\", \"red\", \"bule\"]\n",
    "str_dict = {item: len(item) for item in str_list}\n",
    "str_dict"
   ],
   "metadata": {
    "collapsed": false,
    "ExecuteTime": {
     "end_time": "2023-09-10T15:00:58.854170700Z",
     "start_time": "2023-09-10T15:00:58.746703400Z"
    }
   },
   "id": "166da2dde3e6b0e2"
  },
  {
   "cell_type": "code",
   "execution_count": 83,
   "outputs": [
    {
     "data": {
      "text/plain": "[[17,\n  58,\n  38,\n  14,\n  30,\n  13,\n  10,\n  21,\n  19,\n  12,\n  15,\n  19,\n  18,\n  17,\n  35,\n  19,\n  10,\n  24,\n  18,\n  15],\n [38, 10, 86, 5, 9, 23, 6, 38, 32, 31, 12, 2, 2, 53, 8, 17, 21, 12, 14, 1],\n [63,\n  20,\n  44,\n  46,\n  10,\n  16,\n  28,\n  59,\n  59,\n  62,\n  24,\n  2,\n  44,\n  79,\n  15,\n  81,\n  27,\n  17,\n  11,\n  10],\n [2, 22, 26, 49, 66, 65, 0, 59, 24, 22, 25, 28, 26, 22, 57, 3, 3, 60, 10, 19],\n [8, 12, 0, 10, 0, 26, 46, 50, 21, 7, 45, 15, 8, 19, 43, 19, 27, 24, 32, 47],\n [8, 19, 20, 51, 22, 38, 6, 10, 10, 36, 33, 6, 32, 42, 7, 15, 36, 44, 38, 36],\n [2, 1, 10, 7, 4, 6, 24, 71, 64, 18, 12, 44, 68, 63, 22, 26, 37, 11, 29, 57],\n [64, 1, 4, 0, 75, 60, 36, 2, 74, 1, 29, 2, 48, 2, 3, 9, 0, 33, 72, 61],\n [29, 1, 13, 20, 41, 41, 13, 4, 4, 35, 10, 66, 47, 8, 3, 31, 17, 11, 29, 3],\n [19, 3, 8, 71, 13, 21, 2, 41, 15, 1, 22, 13, 65, 12, 1, 58, 48, 28, 39, 0],\n [8, 66, 15, 16, 27, 48, 2, 12, 18, 0, 30, 9, 11, 9, 63, 41, 71, 12, 31, 2],\n [1, 3, 1, 41, 15, 27, 24, 3, 1, 7, 10, 37, 67, 37, 5, 2, 3, 28, 25, 35],\n [10, 0, 28, 40, 6, 38, 42, 9, 22, 41, 24, 11, 13, 14, 1, 20, 16, 44, 16, 7],\n [19, 9, 29, 2, 44, 45, 1, 47, 27, 11, 7, 22, 9, 57, 26, 20, 6, 6, 40, 1],\n [58, 21, 28, 27, 39, 36, 13, 7, 5, 28, 39, 17, 26, 6, 8, 17, 1, 25, 33, 28],\n [34,\n  10,\n  56,\n  30,\n  11,\n  20,\n  35,\n  11,\n  26,\n  41,\n  27,\n  3,\n  62,\n  1,\n  22,\n  15,\n  42,\n  24,\n  38,\n  22],\n [4, 25, 17, 5, 19, 42, 5, 26, 14, 3, 33, 46, 1, 33, 1, 7, 57, 55, 13, 12],\n [3, 57, 34, 67, 45, 22, 41, 6, 3, 28, 5, 2, 21, 1, 53, 13, 6, 58, 26, 15],\n [3, 30, 25, 6, 56, 41, 32, 3, 8, 20, 49, 5, 14, 25, 29, 32, 1, 15, 16, 1],\n [39, 2, 2, 81, 11, 0, 54, 7, 24, 34, 41, 53, 54, 62, 62, 89, 3, 50, 4, 46],\n [36, 9, 13, 38, 43, 6, 4, 29, 13, 10, 16, 41, 15, 2, 33, 13, 5, 13, 27, 28],\n [1, 0, 11, 48, 12, 3, 6, 1, 62, 21, 56, 38, 12, 79, 54, 3, 10, 40, 23, 16],\n [80, 47, 74, 1, 61, 7, 41, 30, 9, 67, 42, 7, 8, 20, 4, 8, 31, 43, 59, 7],\n [24, 8, 6, 36, 2, 26, 27, 33, 30, 48, 76, 11, 0, 43, 5, 52, 7, 42, 23, 9],\n [4, 42, 38, 40, 1, 1, 9, 5, 4, 22, 67, 7, 3, 46, 51, 16, 0, 32, 3, 64],\n [5, 18, 1, 71, 17, 66, 55, 8, 26, 15, 22, 18, 19, 31, 5, 1, 6, 28, 40, 7],\n [37, 69, 3, 10, 13, 15, 47, 37, 7, 7, 43, 27, 4, 38, 0, 13, 34, 28, 18, 14],\n [17, 51, 41, 15, 21, 15, 9, 21, 5, 24, 47, 39, 21, 62, 26, 17, 1, 32, 77, 0],\n [42,\n  15,\n  39,\n  10,\n  23,\n  24,\n  42,\n  36,\n  39,\n  19,\n  37,\n  37,\n  33,\n  29,\n  2,\n  56,\n  11,\n  46,\n  64,\n  45],\n [54, 31, 5, 27, 53, 4, 28, 72, 44, 28, 15, 57, 45, 16, 2, 18, 33, 23, 45, 9]]"
     },
     "execution_count": 83,
     "metadata": {},
     "output_type": "execute_result"
    }
   ],
   "source": [
    "# exp_2\n",
    "import random\n",
    "\n",
    "L1 = [[random.randint(0, 100) for m in range(20)] for n in range(30)]\n",
    "L2 = [[random.randint(0, 100) for m in range(20)] for n in range(30)]\n",
    "L3 = [[random.randint(0, 100) for m in range(20)] for n in range(30)]\n",
    "# L_min = [[min(m1, m2, m3) for m1 in n1 for m2 in n2 for m3 in n3] for n1 in L1 for n2 in L2 for n3 in L3]\n",
    "L_min = [[min(m1, m2, m3) for m1, m2, m3 in zip(n1, n2, n3)] for n1, n2, n3 in zip(L1, L2, L3)]\n",
    "L_min\n"
   ],
   "metadata": {
    "collapsed": false,
    "ExecuteTime": {
     "end_time": "2023-09-10T15:00:58.974644900Z",
     "start_time": "2023-09-10T15:00:58.756473300Z"
    }
   },
   "id": "3c7b97190342c646"
  },
  {
   "cell_type": "markdown",
   "source": [
    "### 1.1.2 匿名函数"
   ],
   "metadata": {
    "collapsed": false
   },
   "id": "261e559a87111c25"
  },
  {
   "cell_type": "code",
   "execution_count": 84,
   "outputs": [
    {
     "data": {
      "text/plain": "[[3, 4, 5], [6], [9]]"
     },
     "execution_count": 84,
     "metadata": {},
     "output_type": "execute_result"
    }
   ],
   "source": [
    "my_list = [[1, 2], [3, 4, 5], [6], [7, 8], [9]]\n",
    "list(filter(lambda x: any(True if i % 3 == 0 else False for i in x), my_list))\n"
   ],
   "metadata": {
    "collapsed": false,
    "ExecuteTime": {
     "end_time": "2023-09-10T15:00:58.975653800Z",
     "start_time": "2023-09-10T15:00:58.777462200Z"
    }
   },
   "id": "e3fa182527efea51"
  },
  {
   "cell_type": "markdown",
   "source": [
    "### 1.1.3 打包函数"
   ],
   "metadata": {
    "collapsed": false
   },
   "id": "87df69e1ed166b44"
  },
  {
   "cell_type": "code",
   "execution_count": 85,
   "outputs": [
    {
     "data": {
      "text/plain": "[(0, 'A'), (1, 'B'), (2, 'C'), (3, 'D')]"
     },
     "execution_count": 85,
     "metadata": {},
     "output_type": "execute_result"
    }
   ],
   "source": [
    "def diy_enumerate(l_num: list):\n",
    "    return list(zip(range(len(l_num)), l_num))\n",
    "\n",
    "\n",
    "list_1 = ['A', 'B', 'C', 'D']\n",
    "diy_enumerate(list_1)\n",
    "\n"
   ],
   "metadata": {
    "collapsed": false,
    "ExecuteTime": {
     "end_time": "2023-09-10T15:00:58.978653600Z",
     "start_time": "2023-09-10T15:00:58.787199600Z"
    }
   },
   "id": "e1bbdc0c156199a"
  },
  {
   "cell_type": "markdown",
   "source": [
    "## 1.2 Numpy 函数"
   ],
   "metadata": {
    "collapsed": false
   },
   "id": "f8f0f7b227844f04"
  },
  {
   "cell_type": "code",
   "execution_count": 86,
   "outputs": [
    {
     "data": {
      "text/plain": "array([[0, 1, 2, 3, 4, 5, 6, 7, 8, 9],\n       [0, 1, 2, 3, 4, 5, 6, 7, 8, 9],\n       [0, 1, 2, 3, 4, 5, 6, 7, 8, 9],\n       [0, 1, 2, 3, 4, 5, 6, 7, 8, 9],\n       [0, 1, 2, 3, 4, 5, 6, 7, 8, 9],\n       [0, 1, 2, 3, 4, 5, 6, 7, 8, 9],\n       [0, 1, 2, 3, 4, 5, 6, 7, 8, 9],\n       [0, 1, 2, 3, 4, 5, 6, 7, 8, 9],\n       [0, 1, 2, 3, 4, 5, 6, 7, 8, 9],\n       [0, 1, 2, 3, 4, 5, 6, 7, 8, 9]])"
     },
     "execution_count": 86,
     "metadata": {},
     "output_type": "execute_result"
    }
   ],
   "source": [
    "import numpy as np\n",
    "\n",
    "array_1 = np.arange(0, 10).reshape(10, 1)\n",
    "na_l = np.repeat(array_1, repeats=10, axis=1)\n",
    "na_l.T"
   ],
   "metadata": {
    "collapsed": false,
    "ExecuteTime": {
     "end_time": "2023-09-10T15:00:58.999654Z",
     "start_time": "2023-09-10T15:00:58.793755900Z"
    }
   },
   "id": "25f37083219c1ffb"
  },
  {
   "cell_type": "code",
   "execution_count": 87,
   "outputs": [
    {
     "name": "stdout",
     "output_type": "stream",
     "text": [
      "[[[ 0  1  2]\n",
      "  [ 3  4  5]]\n",
      "\n",
      " [[ 6  7  8]\n",
      "  [ 9 10 11]]\n",
      "\n",
      " [[12 13 14]\n",
      "  [15 16 17]]\n",
      "\n",
      " [[18 19 20]\n",
      "  [21 22 23]]]\n"
     ]
    },
    {
     "data": {
      "text/plain": "(4, 1, 1, 2, 3)"
     },
     "execution_count": 87,
     "metadata": {},
     "output_type": "execute_result"
    }
   ],
   "source": [
    "target = np.arange(24).reshape((4, 2, 3))\n",
    "print(target)\n",
    "target[:, np.newaxis, np.newaxis].shape"
   ],
   "metadata": {
    "collapsed": false,
    "ExecuteTime": {
     "end_time": "2023-09-10T15:00:59.000653500Z",
     "start_time": "2023-09-10T15:00:58.800730300Z"
    }
   },
   "id": "c2b88076113a46f8"
  },
  {
   "cell_type": "code",
   "execution_count": 88,
   "outputs": [
    {
     "name": "stdout",
     "output_type": "stream",
     "text": [
      "[[24 54 52 47 21 54 30 68 36 40]\n",
      " [10 74 42 24  4 47 91 51  4 32]\n",
      " [10 11 28 46 72 40 62 86 98 45]\n",
      " [35 35 89 34  6 37  1 76 35 70]\n",
      " [54 81 63  9 62  2 82 36 92 41]\n",
      " [37 49 26 68 36 31 30 34 19 18]\n",
      " [94 85  3 70 13 45 67 92 86 40]\n",
      " [40 76 23 31 18 71 72 19 93 44]\n",
      " [84 50 42 94 47 22 74 90 97 92]\n",
      " [74 29 82 59  1 87 64 17 37 95]]\n",
      "[[7.78111842e-20 8.53304727e-17 1.05305527e-20 5.74950924e-19\n",
      "  1.46239541e-31 8.31528714e-07 1.41206123e-28 1.38879433e-11\n",
      "  3.04635994e-27 1.29914267e-24]\n",
      " [6.47022343e-26 4.13993755e-08 4.78086351e-25 5.90007717e-29\n",
      "  6.05422592e-39 7.58256039e-10 4.38345876e-02 5.74952202e-19\n",
      "  3.85796066e-41 4.35813815e-28]\n",
      " [6.47022343e-26 1.80485131e-35 3.97542531e-31 2.11512624e-19\n",
      "  2.06102563e-09 6.91440007e-13 1.11500535e-14 9.11881927e-04\n",
      "  2.57062717e+00 1.92809868e-22]\n",
      " [4.65887787e-15 4.78089269e-25 1.23409046e-04 1.29957848e-24\n",
      "  4.47350149e-38 3.44247709e-14 3.59181164e-41 4.13993754e-08\n",
      "  1.12069319e-27 1.38832552e-11]\n",
      " [8.31527242e-07 4.53999279e-05 6.30507802e-16 1.80484730e-35\n",
      "  9.35704188e-14 2.17052200e-29 5.40961786e-06 1.75879213e-25\n",
      "  6.37194769e-03 3.53143592e-24]\n",
      " [3.44247099e-14 5.74952203e-19 5.38015310e-32 7.58254325e-10\n",
      "  4.78059600e-25 8.53304758e-17 1.41206123e-28 2.38026631e-26\n",
      "  1.26117404e-34 3.62391704e-34]\n",
      " [1.95729262e+11 2.47875207e-03 5.52104835e-42 5.60278374e-09\n",
      "  4.90579007e-35 1.02618796e-10 1.65481466e-12 3.67879426e-01\n",
      "  1.57944792e-05 1.29914267e-24]\n",
      " [6.91438782e-13 3.05902308e-07 2.67862050e-33 6.47022026e-26\n",
      "  7.28083803e-33 2.00855368e+01 2.45596271e-10 7.28128987e-33\n",
      "  1.73207496e-02 7.09307866e-23]\n",
      " [8.88609474e+06 1.56288212e-18 4.78086351e-25 1.48412823e+02\n",
      "  2.86234082e-20 1.05306173e-20 1.81472462e-09 4.97870663e-02\n",
      "  9.45680886e-01 4.97702598e-02]\n",
      " [4.03428077e+02 1.18506482e-27 1.12534483e-07 9.35760177e-14\n",
      "  3.01422160e-40 1.78482300e+08 8.23883705e-14 9.85415427e-34\n",
      "  8.28086486e-27 9.99662390e-01]]\n"
     ]
    }
   ],
   "source": [
    "import numpy as np\n",
    "\n",
    "da_11 = np.random.randint(1, 100, size=(10, 10))\n",
    "print(da_11)\n",
    "da_softmax = np.exp(da_11) / np.sum(np.exp(da_11), axis=1)\n",
    "print(da_softmax)"
   ],
   "metadata": {
    "collapsed": false,
    "ExecuteTime": {
     "end_time": "2023-09-10T15:00:59.001653700Z",
     "start_time": "2023-09-10T15:00:58.808491400Z"
    }
   },
   "id": "1e77363dd6dc0385"
  },
  {
   "cell_type": "code",
   "execution_count": 89,
   "outputs": [
    {
     "data": {
      "text/plain": "array([[0, 0, 1, 0, 0],\n       [0, 0, 1, 0, 0],\n       [0, 0, 0, 1, 0],\n       [0, 1, 0, 0, 0]])"
     },
     "execution_count": 89,
     "metadata": {},
     "output_type": "execute_result"
    }
   ],
   "source": [
    "da_12 = np.random.randint(0, 100, size=(4, 5))\n",
    "np.where(np.amax(da_12, axis=1)[:, None] == da_12, 1, 0)"
   ],
   "metadata": {
    "collapsed": false,
    "ExecuteTime": {
     "end_time": "2023-09-10T15:00:59.002653700Z",
     "start_time": "2023-09-10T15:00:58.816255200Z"
    }
   },
   "id": "3e85e26ce36cef20"
  },
  {
   "cell_type": "code",
   "execution_count": 90,
   "outputs": [
    {
     "data": {
      "text/plain": "array([ True,  True,  True,  True,  True,  True,  True,  True,  True,\n        True,  True,  True,  True,  True,  True,  True,  True,  True,\n        True,  True,  True,  True,  True,  True,  True,  True,  True,\n        True,  True,  True,  True,  True,  True,  True,  True,  True,\n        True,  True,  True,  True,  True,  True,  True,  True,  True,\n        True,  True,  True,  True,  True,  True,  True,  True,  True,\n        True,  True,  True,  True,  True,  True,  True,  True,  True,\n        True,  True,  True,  True,  True,  True,  True,  True,  True,\n        True,  True,  True,  True,  True,  True,  True,  True,  True,\n        True,  True,  True,  True,  True,  True,  True,  True,  True,\n        True,  True,  True,  True,  True,  True,  True,  True,  True,\n        True,  True,  True,  True,  True,  True,  True,  True,  True,\n        True,  True,  True,  True,  True,  True,  True,  True,  True,\n        True,  True,  True,  True,  True,  True,  True,  True,  True,\n        True,  True,  True,  True,  True,  True,  True,  True,  True,\n        True,  True,  True,  True,  True,  True,  True,  True,  True,\n        True,  True,  True,  True,  True,  True,  True,  True,  True,\n        True,  True,  True,  True,  True,  True,  True,  True,  True,\n        True,  True,  True,  True,  True,  True,  True,  True,  True,\n        True,  True,  True,  True,  True,  True,  True,  True,  True,\n        True,  True,  True,  True,  True,  True,  True,  True,  True,\n        True,  True,  True,  True,  True,  True,  True,  True,  True,\n        True,  True,  True,  True,  True,  True,  True,  True,  True,\n        True,  True,  True,  True,  True,  True,  True,  True,  True,\n        True,  True,  True,  True,  True,  True,  True,  True,  True,\n        True,  True,  True,  True,  True,  True,  True,  True,  True,\n        True,  True,  True,  True,  True,  True,  True,  True,  True,\n        True,  True,  True,  True,  True,  True,  True,  True,  True,\n        True,  True,  True,  True,  True,  True,  True,  True,  True,\n        True,  True,  True,  True,  True,  True,  True,  True,  True,\n        True,  True,  True,  True,  True,  True,  True,  True,  True,\n        True,  True,  True,  True,  True,  True,  True,  True,  True,\n        True,  True,  True,  True,  True,  True,  True,  True,  True,\n        True,  True,  True,  True,  True,  True,  True,  True,  True,\n        True,  True,  True,  True,  True,  True,  True,  True,  True,\n        True,  True,  True,  True,  True,  True,  True,  True,  True,\n        True,  True,  True,  True,  True,  True,  True,  True,  True,\n        True,  True,  True,  True,  True,  True,  True,  True,  True,\n        True,  True,  True,  True,  True,  True,  True,  True,  True,\n        True,  True,  True,  True,  True,  True,  True,  True,  True,\n        True,  True,  True,  True,  True,  True,  True,  True,  True,\n        True,  True,  True,  True,  True,  True,  True,  True,  True,\n        True,  True,  True,  True,  True,  True,  True,  True,  True,\n        True,  True,  True,  True,  True,  True,  True,  True,  True,\n        True,  True,  True,  True,  True,  True,  True,  True,  True,\n        True,  True,  True,  True,  True,  True,  True,  True,  True,\n        True,  True,  True,  True,  True,  True,  True,  True,  True,\n        True,  True,  True,  True,  True,  True,  True,  True,  True,\n        True,  True,  True,  True,  True,  True,  True,  True,  True,\n        True,  True,  True,  True,  True,  True,  True,  True,  True,\n        True,  True,  True,  True,  True,  True,  True,  True,  True,\n        True,  True,  True,  True,  True,  True,  True,  True,  True,\n        True,  True,  True,  True,  True,  True,  True,  True,  True,\n        True,  True,  True,  True,  True,  True,  True,  True,  True,\n        True,  True,  True,  True,  True,  True,  True,  True,  True,\n        True,  True,  True,  True,  True,  True,  True,  True,  True,\n        True,  True,  True,  True,  True,  True,  True,  True,  True,\n        True,  True,  True,  True,  True,  True,  True,  True,  True,\n        True,  True,  True,  True,  True,  True,  True,  True,  True,\n        True,  True,  True,  True,  True,  True,  True,  True,  True,\n        True,  True,  True,  True,  True,  True,  True,  True,  True,\n        True,  True,  True,  True,  True,  True,  True,  True,  True,\n        True,  True,  True,  True,  True,  True,  True,  True,  True,\n        True,  True,  True,  True,  True,  True,  True,  True,  True,\n        True,  True,  True,  True,  True,  True,  True,  True,  True,\n        True,  True,  True,  True,  True,  True,  True,  True,  True,\n        True,  True,  True,  True,  True,  True,  True,  True,  True,\n        True,  True,  True,  True,  True,  True,  True,  True,  True,\n        True,  True,  True,  True,  True,  True,  True,  True,  True,\n        True,  True,  True,  True,  True,  True,  True,  True,  True,\n        True,  True,  True,  True,  True,  True,  True,  True,  True,\n        True,  True,  True,  True,  True,  True,  True,  True,  True,\n        True,  True,  True,  True,  True,  True,  True,  True,  True,\n        True,  True,  True,  True,  True,  True,  True,  True,  True,\n        True,  True,  True,  True,  True,  True,  True,  True,  True,\n        True,  True,  True,  True,  True,  True,  True,  True,  True,\n        True,  True,  True,  True,  True,  True,  True,  True,  True,\n        True,  True,  True,  True,  True,  True,  True,  True,  True,\n        True,  True,  True,  True,  True,  True,  True,  True,  True,\n        True,  True,  True,  True,  True,  True,  True,  True])"
     },
     "execution_count": 90,
     "metadata": {},
     "output_type": "execute_result"
    }
   ],
   "source": [
    "da_array = np.random.rand(1000, 3)\n",
    "res = da_array[(da_array.sum(axis=1) <= 1.5) | ((da_array[:, 0] > 0.5) & (da_array[:, 2] > 0.5))]\n",
    "(res.sum(axis=1) <= 1.5) | (res[:, [0, 2]] > 0.5).all(axis=1)"
   ],
   "metadata": {
    "collapsed": false,
    "ExecuteTime": {
     "end_time": "2023-09-10T15:00:59.004653700Z",
     "start_time": "2023-09-10T15:00:58.825999100Z"
    }
   },
   "id": "d3ee0eeabaea72fe"
  },
  {
   "cell_type": "code",
   "execution_count": 91,
   "outputs": [
    {
     "data": {
      "text/plain": "array([[0., 1., 1.],\n       [0., 0., 1.],\n       [1., 1., 0.],\n       ...,\n       [1., 0., 0.],\n       [0., 1., 0.],\n       [0., 1., 0.]])"
     },
     "execution_count": 91,
     "metadata": {},
     "output_type": "execute_result"
    }
   ],
   "source": [
    "da_r = np.round(da_array)\n",
    "((da_r == 0) | (da_r == 1)).all()\n",
    "da_r[da_r.sum(axis=1) <= 1]\n",
    "da_r[da_r.sum(axis=1) != 3]\n",
    "da_r[(da_r.sum(axis=1) != 0) & (da_r.sum(axis=1) != 3)]"
   ],
   "metadata": {
    "collapsed": false,
    "ExecuteTime": {
     "end_time": "2023-09-10T15:00:59.025654400Z",
     "start_time": "2023-09-10T15:00:58.834483500Z"
    }
   },
   "id": "14a1aa737e3129a5"
  },
  {
   "cell_type": "code",
   "execution_count": 92,
   "outputs": [
    {
     "name": "stdout",
     "output_type": "stream",
     "text": [
      "[[6.5 3.5 3.5]\n",
      " [6.5 6.5 6.5]\n",
      " [3.5 3.5 3.5]\n",
      " [6.5 6.5 3.5]]\n",
      "[[6.5 3.5 3.5]\n",
      " [6.5 6.5 6.5]\n",
      " [3.5 3.5 3.5]\n",
      " [6.5 6.5 3.5]]\n"
     ]
    },
    {
     "data": {
      "text/plain": "True"
     },
     "execution_count": 92,
     "metadata": {},
     "output_type": "execute_result"
    }
   ],
   "source": [
    "da_14 = np.random.randint(0, 10, size=(4, 3))\n",
    "da_clip_1 = np.clip(da_14, 3.5, 6.5)\n",
    "da_clip_t = np.where(da_14 < 3.5, 3.5, da_14)\n",
    "da_clip_2 = np.where(da_clip_t > 6.5, 6.5, da_clip_t)\n",
    "print(da_clip_1)\n",
    "print(da_clip_2)\n",
    "(da_clip_1 == da_clip_2).all()"
   ],
   "metadata": {
    "collapsed": false,
    "ExecuteTime": {
     "end_time": "2023-09-10T15:00:59.026646300Z",
     "start_time": "2023-09-10T15:00:58.844574600Z"
    }
   },
   "id": "c34a64c21ea9b199"
  },
  {
   "cell_type": "code",
   "execution_count": 93,
   "outputs": [
    {
     "name": "stdout",
     "output_type": "stream",
     "text": [
      "[[0 1 0]\n",
      " [1 1 2]\n",
      " [0 2 0]]\n"
     ]
    },
    {
     "data": {
      "text/plain": "array([1, 1, 1, 2, 2])"
     },
     "execution_count": 93,
     "metadata": {},
     "output_type": "execute_result"
    }
   ],
   "source": [
    "np.random.seed(0)\n",
    "da_15 = np.random.randint(0, 3, size=(3, 3))\n",
    "print(da_15)\n",
    "da_15[np.nonzero(da_15)]"
   ],
   "metadata": {
    "collapsed": false,
    "ExecuteTime": {
     "end_time": "2023-09-10T15:00:59.027654200Z",
     "start_time": "2023-09-10T15:00:58.853170500Z"
    }
   },
   "id": "dbc45e2946969efa"
  },
  {
   "cell_type": "markdown",
   "source": [
    "## 1.3 习题"
   ],
   "metadata": {
    "collapsed": false
   },
   "id": "f1490d08b7621ec6"
  },
  {
   "cell_type": "code",
   "execution_count": 94,
   "outputs": [
    {
     "name": "stdout",
     "output_type": "stream",
     "text": [
      "[[10 13]\n",
      " [28 40]]\n",
      "[[10, 13], [28, 40]]\n"
     ]
    }
   ],
   "source": [
    "a = np.arange(6).reshape(2, 3)\n",
    "b = np.arange(6).reshape(3, 2)\n",
    "c = [[(a[i, :] * (b[:, j])).sum() for j in range(2)] for i in range(2)]\n",
    "print(a @ b)\n",
    "print(c)"
   ],
   "metadata": {
    "collapsed": false,
    "ExecuteTime": {
     "end_time": "2023-09-10T15:00:59.027654200Z",
     "start_time": "2023-09-10T15:00:58.861434200Z"
    }
   },
   "id": "87207ec05f9fa4f1"
  },
  {
   "cell_type": "code",
   "execution_count": 95,
   "outputs": [
    {
     "data": {
      "text/plain": "11.842696601945802"
     },
     "execution_count": 95,
     "metadata": {},
     "output_type": "execute_result"
    }
   ],
   "source": [
    "np.random.seed(0)\n",
    "A = np.random.randint(10, 20, (8, 5))\n",
    "B = (A.sum(1)[:, None].dot(A.sum(0).reshape(1, 5))) / A.sum()\n",
    "kar_t = ((A - B) ** 2 / B).sum()\n",
    "kar_t"
   ],
   "metadata": {
    "collapsed": false,
    "ExecuteTime": {
     "end_time": "2023-09-10T15:00:59.027654200Z",
     "start_time": "2023-09-10T15:00:58.869344200Z"
    }
   },
   "id": "77ffe7f37027a417"
  },
  {
   "cell_type": "code",
   "execution_count": 96,
   "outputs": [],
   "source": [
    "np.random.seed(0)\n",
    "data_Y_M = np.random.randint(100, 200, size=(20, 12))\n",
    "data_Y_Q = np.sum(np.split(data_Y_M, 3, 1), axis=0)"
   ],
   "metadata": {
    "collapsed": false,
    "ExecuteTime": {
     "end_time": "2023-09-10T15:00:59.027654200Z",
     "start_time": "2023-09-10T15:00:58.876879500Z"
    }
   },
   "id": "9188042654d60ab2"
  },
  {
   "cell_type": "markdown",
   "source": [
    "# 第二章 pandas基础"
   ],
   "metadata": {
    "collapsed": false
   },
   "id": "c85be2da4f49f820"
  },
  {
   "cell_type": "markdown",
   "source": [
    "## 2.1 文件的读取和写入"
   ],
   "metadata": {
    "collapsed": false
   },
   "id": "2d75876cdb20a02a"
  },
  {
   "cell_type": "code",
   "execution_count": 1,
   "outputs": [
    {
     "data": {
      "text/plain": "   col1 col2  col3    col4      col5\n0     2    a   1.4   apple  2020/1/1\n1     3    b   3.4  banana  2020/1/2\n2     6    c   2.5  orange  2020/1/5",
      "text/html": "<div>\n<style scoped>\n    .dataframe tbody tr th:only-of-type {\n        vertical-align: middle;\n    }\n\n    .dataframe tbody tr th {\n        vertical-align: top;\n    }\n\n    .dataframe thead th {\n        text-align: right;\n    }\n</style>\n<table border=\"1\" class=\"dataframe\">\n  <thead>\n    <tr style=\"text-align: right;\">\n      <th></th>\n      <th>col1</th>\n      <th>col2</th>\n      <th>col3</th>\n      <th>col4</th>\n      <th>col5</th>\n    </tr>\n  </thead>\n  <tbody>\n    <tr>\n      <th>0</th>\n      <td>2</td>\n      <td>a</td>\n      <td>1.4</td>\n      <td>apple</td>\n      <td>2020/1/1</td>\n    </tr>\n    <tr>\n      <th>1</th>\n      <td>3</td>\n      <td>b</td>\n      <td>3.4</td>\n      <td>banana</td>\n      <td>2020/1/2</td>\n    </tr>\n    <tr>\n      <th>2</th>\n      <td>6</td>\n      <td>c</td>\n      <td>2.5</td>\n      <td>orange</td>\n      <td>2020/1/5</td>\n    </tr>\n  </tbody>\n</table>\n</div>"
     },
     "execution_count": 1,
     "metadata": {},
     "output_type": "execute_result"
    }
   ],
   "source": [
    "import pandas as pd\n",
    "\n",
    "file_path = r\"C:\\Users\\Administrator\\Desktop\\python\\pandas数据处理与分析\\习题答案代码+数据集\\数据集\\ch2\\my_csv.csv\"\n",
    "df_csv = pd.read_csv(file_path)\n",
    "df_csv"
   ],
   "metadata": {
    "collapsed": false,
    "ExecuteTime": {
     "end_time": "2023-09-19T13:27:38.652397400Z",
     "start_time": "2023-09-19T13:27:37.706756300Z"
    }
   },
   "id": "ea1d080e3d7ed915"
  },
  {
   "cell_type": "code",
   "execution_count": 6,
   "outputs": [
    {
     "data": {
      "text/plain": "  col1                 col2\n0   TS    This is an apple.\n1   GQ      My name is Bob.\n2   WT           Well done!",
      "text/html": "<div>\n<style scoped>\n    .dataframe tbody tr th:only-of-type {\n        vertical-align: middle;\n    }\n\n    .dataframe tbody tr th {\n        vertical-align: top;\n    }\n\n    .dataframe thead th {\n        text-align: right;\n    }\n</style>\n<table border=\"1\" class=\"dataframe\">\n  <thead>\n    <tr style=\"text-align: right;\">\n      <th></th>\n      <th>col1</th>\n      <th>col2</th>\n    </tr>\n  </thead>\n  <tbody>\n    <tr>\n      <th>0</th>\n      <td>TS</td>\n      <td>This is an apple.</td>\n    </tr>\n    <tr>\n      <th>1</th>\n      <td>GQ</td>\n      <td>My name is Bob.</td>\n    </tr>\n    <tr>\n      <th>2</th>\n      <td>WT</td>\n      <td>Well done!</td>\n    </tr>\n  </tbody>\n</table>\n</div>"
     },
     "execution_count": 6,
     "metadata": {},
     "output_type": "execute_result"
    }
   ],
   "source": [
    "pd.read_table(\n",
    "    r\"C:\\Users\\Administrator\\Desktop\\python\\pandas数据处理与分析\\习题答案代码+数据集\\数据集\\ch2\\my_table_special_sep.txt\",\n",
    "    sep=r\"\\|\\|\\|\\|\", engine='python')"
   ],
   "metadata": {
    "collapsed": false,
    "ExecuteTime": {
     "end_time": "2023-09-19T13:33:21.575543Z",
     "start_time": "2023-09-19T13:33:21.550211600Z"
    }
   },
   "id": "408d9674ffdfb242"
  },
  {
   "cell_type": "markdown",
   "source": [
    "## 2.2 基本数据结构"
   ],
   "metadata": {
    "collapsed": false
   },
   "id": "1c19ad3861d8607a"
  },
  {
   "cell_type": "code",
   "execution_count": 13,
   "outputs": [
    {
     "data": {
      "text/plain": "(3,)"
     },
     "execution_count": 13,
     "metadata": {},
     "output_type": "execute_result"
    }
   ],
   "source": [
    "s = pd.Series(data=[100, 'a', {'dic1': 5}], index=pd.Index(['id1', 20, 'third'], name='my_index'), name='my_name',\n",
    "              dtype='object')\n",
    "s.values\n",
    "s.index\n",
    "s.dtype\n",
    "s.name\n",
    "s.shape"
   ],
   "metadata": {
    "collapsed": false,
    "ExecuteTime": {
     "end_time": "2023-09-19T14:14:25.495943Z",
     "start_time": "2023-09-19T14:14:25.491044500Z"
    }
   },
   "id": "3f7b374bac639dc3"
  },
  {
   "cell_type": "code",
   "execution_count": 28,
   "outputs": [
    {
     "data": {
      "text/plain": "      row_0 row_1 row_2\ncol_0     1     2     3\ncol_1     a     b     c\ncol_2   1.2   2.2   3.2",
      "text/html": "<div>\n<style scoped>\n    .dataframe tbody tr th:only-of-type {\n        vertical-align: middle;\n    }\n\n    .dataframe tbody tr th {\n        vertical-align: top;\n    }\n\n    .dataframe thead th {\n        text-align: right;\n    }\n</style>\n<table border=\"1\" class=\"dataframe\">\n  <thead>\n    <tr style=\"text-align: right;\">\n      <th></th>\n      <th>row_0</th>\n      <th>row_1</th>\n      <th>row_2</th>\n    </tr>\n  </thead>\n  <tbody>\n    <tr>\n      <th>col_0</th>\n      <td>1</td>\n      <td>2</td>\n      <td>3</td>\n    </tr>\n    <tr>\n      <th>col_1</th>\n      <td>a</td>\n      <td>b</td>\n      <td>c</td>\n    </tr>\n    <tr>\n      <th>col_2</th>\n      <td>1.2</td>\n      <td>2.2</td>\n      <td>3.2</td>\n    </tr>\n  </tbody>\n</table>\n</div>"
     },
     "execution_count": 28,
     "metadata": {},
     "output_type": "execute_result"
    }
   ],
   "source": [
    "data = [[1, 'a', 1.2], [2, 'b', 2.2], [3, 'c', 3.2]]\n",
    "df = pd.DataFrame(data=data, index=['row_{:d}'.format(i) for i in range(3)],\n",
    "                  columns=['col_{:d}'.format(i) for i in range(3)])\n",
    "df['col_0']\n",
    "type(df[['col_0']])\n",
    "df['col_0'].to_frame()\n",
    "df.values\n",
    "df.index\n",
    "df.columns\n",
    "df.dtypes\n",
    "df.shape\n",
    "df.T"
   ],
   "metadata": {
    "collapsed": false,
    "ExecuteTime": {
     "end_time": "2023-09-19T14:24:20.491534400Z",
     "start_time": "2023-09-19T14:24:20.472574700Z"
    }
   },
   "id": "1d475d3e06177723"
  },
  {
   "cell_type": "code",
   "execution_count": 33,
   "outputs": [
    {
     "data": {
      "text/plain": "       col_0 col_1  col_2\nrow_0      1     a    1.2\nrow_1      2     b    2.2\nrow_2      3     c    3.2",
      "text/html": "<div>\n<style scoped>\n    .dataframe tbody tr th:only-of-type {\n        vertical-align: middle;\n    }\n\n    .dataframe tbody tr th {\n        vertical-align: top;\n    }\n\n    .dataframe thead th {\n        text-align: right;\n    }\n</style>\n<table border=\"1\" class=\"dataframe\">\n  <thead>\n    <tr style=\"text-align: right;\">\n      <th></th>\n      <th>col_0</th>\n      <th>col_1</th>\n      <th>col_2</th>\n    </tr>\n  </thead>\n  <tbody>\n    <tr>\n      <th>row_0</th>\n      <td>1</td>\n      <td>a</td>\n      <td>1.2</td>\n    </tr>\n    <tr>\n      <th>row_1</th>\n      <td>2</td>\n      <td>b</td>\n      <td>2.2</td>\n    </tr>\n    <tr>\n      <th>row_2</th>\n      <td>3</td>\n      <td>c</td>\n      <td>3.2</td>\n    </tr>\n  </tbody>\n</table>\n</div>"
     },
     "execution_count": 33,
     "metadata": {},
     "output_type": "execute_result"
    }
   ],
   "source": [
    "df['col_4'] = ['apple', 'banana', 'cat']\n",
    "df.drop(['col_0'], axis=1)\n",
    "df.drop(['row_0'], axis=0)\n",
    "df[df.columns[:-1]]"
   ],
   "metadata": {
    "collapsed": false,
    "ExecuteTime": {
     "end_time": "2023-09-19T14:29:00.994567100Z",
     "start_time": "2023-09-19T14:29:00.979530100Z"
    }
   },
   "id": "bc2d5ed6f92d9390"
  },
  {
   "cell_type": "markdown",
   "source": [
    "## 2.3 常用基本函数"
   ],
   "metadata": {
    "collapsed": false
   },
   "id": "7ffdd68b08746d8"
  },
  {
   "cell_type": "markdown",
   "source": [
    "1. 数据操作：索引、分组、变形、连接\n",
    "2. 数据类型：缺失、文本、分类、时序\n",
    "3. 其它（可视化、优化等）"
   ],
   "metadata": {
    "collapsed": false
   },
   "id": "60ca422d76d141f2"
  },
  {
   "cell_type": "code",
   "execution_count": 1,
   "outputs": [
    {
     "name": "stdout",
     "output_type": "stream",
     "text": [
      "<class 'pandas.core.frame.DataFrame'>\n",
      "RangeIndex: 200 entries, 0 to 199\n",
      "Data columns (total 10 columns):\n",
      " #   Column       Non-Null Count  Dtype  \n",
      "---  ------       --------------  -----  \n",
      " 0   School       200 non-null    object \n",
      " 1   Grade        200 non-null    object \n",
      " 2   Name         200 non-null    object \n",
      " 3   Gender       200 non-null    object \n",
      " 4   Height       183 non-null    float64\n",
      " 5   Weight       189 non-null    float64\n",
      " 6   Transfer     188 non-null    object \n",
      " 7   Test_Number  200 non-null    int64  \n",
      " 8   Test_Date    200 non-null    object \n",
      " 9   Time_Record  200 non-null    object \n",
      "dtypes: float64(2), int64(1), object(7)\n",
      "memory usage: 15.8+ KB\n"
     ]
    },
    {
     "data": {
      "text/plain": "           Height      Weight  Test_Number\ncount  183.000000  189.000000   200.000000\nmean   163.218033   55.015873     1.645000\nstd      8.608879   12.824294     0.722207\nmin    145.400000   34.000000     1.000000\n25%    157.150000   46.000000     1.000000\n50%    161.900000   51.000000     1.500000\n75%    167.500000   65.000000     2.000000\nmax    193.900000   89.000000     3.000000",
      "text/html": "<div>\n<style scoped>\n    .dataframe tbody tr th:only-of-type {\n        vertical-align: middle;\n    }\n\n    .dataframe tbody tr th {\n        vertical-align: top;\n    }\n\n    .dataframe thead th {\n        text-align: right;\n    }\n</style>\n<table border=\"1\" class=\"dataframe\">\n  <thead>\n    <tr style=\"text-align: right;\">\n      <th></th>\n      <th>Height</th>\n      <th>Weight</th>\n      <th>Test_Number</th>\n    </tr>\n  </thead>\n  <tbody>\n    <tr>\n      <th>count</th>\n      <td>183.000000</td>\n      <td>189.000000</td>\n      <td>200.000000</td>\n    </tr>\n    <tr>\n      <th>mean</th>\n      <td>163.218033</td>\n      <td>55.015873</td>\n      <td>1.645000</td>\n    </tr>\n    <tr>\n      <th>std</th>\n      <td>8.608879</td>\n      <td>12.824294</td>\n      <td>0.722207</td>\n    </tr>\n    <tr>\n      <th>min</th>\n      <td>145.400000</td>\n      <td>34.000000</td>\n      <td>1.000000</td>\n    </tr>\n    <tr>\n      <th>25%</th>\n      <td>157.150000</td>\n      <td>46.000000</td>\n      <td>1.000000</td>\n    </tr>\n    <tr>\n      <th>50%</th>\n      <td>161.900000</td>\n      <td>51.000000</td>\n      <td>1.500000</td>\n    </tr>\n    <tr>\n      <th>75%</th>\n      <td>167.500000</td>\n      <td>65.000000</td>\n      <td>2.000000</td>\n    </tr>\n    <tr>\n      <th>max</th>\n      <td>193.900000</td>\n      <td>89.000000</td>\n      <td>3.000000</td>\n    </tr>\n  </tbody>\n</table>\n</div>"
     },
     "execution_count": 1,
     "metadata": {},
     "output_type": "execute_result"
    }
   ],
   "source": [
    "import pandas as pd\n",
    "\n",
    "df = pd.read_csv(\"./src/learn_pandas.csv\")\n",
    "# 汇总函数\n",
    "df.head()\n",
    "df.info()\n",
    "df.describe()"
   ],
   "metadata": {
    "collapsed": false,
    "ExecuteTime": {
     "end_time": "2023-09-20T12:42:29.148477100Z",
     "start_time": "2023-09-20T12:42:28.313850600Z"
    }
   },
   "id": "9916d8c111608fd4"
  },
  {
   "cell_type": "code",
   "execution_count": 2,
   "outputs": [
    {
     "name": "stderr",
     "output_type": "stream",
     "text": [
      "C:\\Users\\Administrator\\AppData\\Local\\Temp\\ipykernel_20664\\3729687490.py:9: SettingWithCopyWarning: \n",
      "A value is trying to be set on a copy of a slice from a DataFrame.\n",
      "Try using .loc[row_indexer,col_indexer] = value instead\n",
      "\n",
      "See the caveats in the documentation: https://pandas.pydata.org/pandas-docs/stable/user_guide/indexing.html#returning-a-view-versus-a-copy\n",
      "  df_demo[\"BMI\"]=df_demo['Weight']/(df_demo['Height']**2)\n"
     ]
    },
    {
     "data": {
      "text/plain": "'Chengpeng Zhou'"
     },
     "execution_count": 2,
     "metadata": {},
     "output_type": "execute_result"
    }
   ],
   "source": [
    "# 特征统计函数\n",
    "df_demo = df[['Height', 'Weight']]\n",
    "df_demo.mean()\n",
    "df_demo.max()\n",
    "# 分位数 quantile()  非缺失值个数 count() 最大值索引 idxmax()\n",
    "df_demo.quantile(0.75)\n",
    "df_demo.idxmax()\n",
    "\n",
    "df_demo[\"BMI\"] = df_demo['Weight'] / (df_demo['Height'] ** 2)\n",
    "df.loc[df_demo['BMI'].idxmax(), 'Name']"
   ],
   "metadata": {
    "collapsed": false,
    "ExecuteTime": {
     "end_time": "2023-09-20T12:42:34.531898600Z",
     "start_time": "2023-09-20T12:42:34.512914200Z"
    }
   },
   "id": "cc6cd87a67bcb2de"
  },
  {
   "cell_type": "code",
   "execution_count": 7,
   "outputs": [
    {
     "data": {
      "text/plain": "   Gender Transfer            Name\n0  Female        N    Gaopeng Yang\n1    Male        N  Changqiang You\n2    Male        N         Mei Sun\n4    Male        N     Gaojuan You\n5  Female        N     Xiaoli Qian",
      "text/html": "<div>\n<style scoped>\n    .dataframe tbody tr th:only-of-type {\n        vertical-align: middle;\n    }\n\n    .dataframe tbody tr th {\n        vertical-align: top;\n    }\n\n    .dataframe thead th {\n        text-align: right;\n    }\n</style>\n<table border=\"1\" class=\"dataframe\">\n  <thead>\n    <tr style=\"text-align: right;\">\n      <th></th>\n      <th>Gender</th>\n      <th>Transfer</th>\n      <th>Name</th>\n    </tr>\n  </thead>\n  <tbody>\n    <tr>\n      <th>0</th>\n      <td>Female</td>\n      <td>N</td>\n      <td>Gaopeng Yang</td>\n    </tr>\n    <tr>\n      <th>1</th>\n      <td>Male</td>\n      <td>N</td>\n      <td>Changqiang You</td>\n    </tr>\n    <tr>\n      <th>2</th>\n      <td>Male</td>\n      <td>N</td>\n      <td>Mei Sun</td>\n    </tr>\n    <tr>\n      <th>4</th>\n      <td>Male</td>\n      <td>N</td>\n      <td>Gaojuan You</td>\n    </tr>\n    <tr>\n      <th>5</th>\n      <td>Female</td>\n      <td>N</td>\n      <td>Xiaoli Qian</td>\n    </tr>\n  </tbody>\n</table>\n</div>"
     },
     "execution_count": 7,
     "metadata": {},
     "output_type": "execute_result"
    }
   ],
   "source": [
    "# 频次函数\n",
    "df['School'].unique()\n",
    "df['School'].nunique()\n",
    "df['School'].value_counts(normalize=True)\n",
    "df_demo = df[['Gender', 'Transfer', 'Name']]\n",
    "df_demo.drop_duplicates(['Gender', 'Transfer'], keep='last')\n",
    "df_demo.drop_duplicates(['Name', 'Gender'], keep=False).head()\n"
   ],
   "metadata": {
    "collapsed": false,
    "ExecuteTime": {
     "end_time": "2023-09-20T12:49:07.837679800Z",
     "start_time": "2023-09-20T12:49:07.820569800Z"
    }
   },
   "id": "bd9d8f0cea74af63"
  },
  {
   "cell_type": "code",
   "execution_count": 16,
   "outputs": [
    {
     "data": {
      "text/plain": "0        t0\n1    1.2345\n2        t1\n3        t0\ndtype: object"
     },
     "execution_count": 16,
     "metadata": {},
     "output_type": "execute_result"
    }
   ],
   "source": [
    "# 替换函数\n",
    "# 映射替换\n",
    "df['Gender'].replace({'Female': 0, 'Male': 1}).head()\n",
    "s = pd.Series(['a', 1, 'b', 2, 1, 1, 'a'])\n",
    "s.replace([1, 2], method='ffill')\n",
    "# 逻辑替换\n",
    "s = pd.Series([-1, 1.2345, 100, -50])\n",
    "s.where(s < 0, 'hahaha')\n",
    "s.mask(s < 0, '2333')\n",
    "# 数值替换\n",
    "s.round(2)\n",
    "s.clip(0, 10)\n",
    "s.clip(0, 10).replace({0: \"t0\", 10: \"t1\"})\n"
   ],
   "metadata": {
    "collapsed": false,
    "ExecuteTime": {
     "end_time": "2023-09-20T13:12:12.932040800Z",
     "start_time": "2023-09-20T13:12:12.915307800Z"
    }
   },
   "id": "766e4a26d0fdbda7"
  },
  {
   "cell_type": "code",
   "execution_count": 42,
   "outputs": [
    {
     "data": {
      "text/plain": "0    1.0\n1    2.0\n2    3.0\n3    5.0\n4    5.0\n5    5.0\n6    4.0\n7    4.0\n8    4.0\n9    4.0\ndtype: float64"
     },
     "execution_count": 42,
     "metadata": {},
     "output_type": "execute_result"
    }
   ],
   "source": [
    "# 排序函数\n",
    "df_demo = df[['Grade', 'Name', 'Height', 'Weight']].set_index(['Grade', 'Name'])\n",
    "df_demo.sort_values('Height', ascending=False).head()\n",
    "df_demo.sort_values(['Weight', 'Height'], ascending=[True, False]).head()\n",
    "df_demo.sort_index(level=['Grade', 'Name'], ascending=[True, False]).head()\n",
    "\n",
    "s = pd.Series(list(\"abceeedddd\"))\n",
    "s.rank(ascending=True, pct=False, method='dense')"
   ],
   "metadata": {
    "collapsed": false,
    "ExecuteTime": {
     "end_time": "2023-09-20T13:41:04.680540Z",
     "start_time": "2023-09-20T13:41:04.662368100Z"
    }
   },
   "id": "c7707e6a7cdabffc"
  },
  {
   "cell_type": "code",
   "execution_count": 43,
   "outputs": [
    {
     "data": {
      "text/plain": "Height    163.218033\nWeight     55.015873\ndtype: float64"
     },
     "execution_count": 43,
     "metadata": {},
     "output_type": "execute_result"
    }
   ],
   "source": [
    "# apply函数\n",
    "df_demo = df[['Height', 'Weight']]\n",
    "\n",
    "\n",
    "def my_mean(x: pd.Series):\n",
    "    return x.mean()\n",
    "\n",
    "\n",
    "df_demo.apply(my_mean)\n"
   ],
   "metadata": {
    "collapsed": false,
    "ExecuteTime": {
     "end_time": "2023-09-20T13:44:20.458550700Z",
     "start_time": "2023-09-20T13:44:20.449955100Z"
    }
   },
   "id": "5c86255154307d49"
  },
  {
   "cell_type": "code",
   "execution_count": 49,
   "outputs": [
    {
     "name": "stdout",
     "output_type": "stream",
     "text": [
      "16 ms ± 612 µs per loop (mean ± std. dev. of 7 runs, 100 loops each)\n"
     ]
    }
   ],
   "source": [
    "%timeit -n 100 -r 7 df_demo.apply( lambda x:x.mean(), axis=1)"
   ],
   "metadata": {
    "collapsed": false,
    "ExecuteTime": {
     "end_time": "2023-09-20T13:50:17.092270100Z",
     "start_time": "2023-09-20T13:50:05.872148900Z"
    }
   },
   "id": "77f611b7b9340d50"
  },
  {
   "cell_type": "code",
   "execution_count": 48,
   "outputs": [
    {
     "name": "stdout",
     "output_type": "stream",
     "text": [
      "265 µs ± 6.82 µs per loop (mean ± std. dev. of 7 runs, 100 loops each)\n"
     ]
    }
   ],
   "source": [
    "%timeit -n 100 -r 7 df_demo.mean()"
   ],
   "metadata": {
    "collapsed": false,
    "ExecuteTime": {
     "end_time": "2023-09-20T13:50:02.579535500Z",
     "start_time": "2023-09-20T13:50:02.378601100Z"
    }
   },
   "id": "afa27811534ae3be"
  },
  {
   "cell_type": "markdown",
   "source": [
    "## 2.4 窗口函数"
   ],
   "metadata": {
    "collapsed": false
   },
   "id": "3798423b84f391f4"
  },
  {
   "cell_type": "code",
   "execution_count": 66,
   "outputs": [
    {
     "data": {
      "text/plain": "0         NaN\n1         NaN\n2    2.000000\n3    1.000000\n4    0.666667\ndtype: float64"
     },
     "execution_count": 66,
     "metadata": {},
     "output_type": "execute_result"
    }
   ],
   "source": [
    "# 滑动窗口函数 rolling()\n",
    "s = pd.Series(range(1, 6))\n",
    "roller = s.rolling(window=3, min_periods=3)\n",
    "roller.mean()\n",
    "roller.sum()\n",
    "# 类滑动窗口函数\n",
    "# shift() 向前查询第几个元素\n",
    "# diff() 向前第几个元素作差\n",
    "# pct_change() 向前第几个元素的增长率\n",
    "s.shift(2)\n",
    "s.diff(2)\n",
    "s.pct_change(-2)\n",
    "\n",
    "roller.apply(lambda x: list(x)[0])\n",
    "roller.apply(lambda x: list(x)[-1] - list(x)[0])\n",
    "roller.apply(lambda x: list(x)[-1] / list(x)[0] - 1)\n"
   ],
   "metadata": {
    "collapsed": false,
    "ExecuteTime": {
     "end_time": "2023-09-20T14:15:00.360850300Z",
     "start_time": "2023-09-20T14:15:00.343524600Z"
    }
   },
   "id": "a9a762aa523140c3"
  },
  {
   "cell_type": "code",
   "execution_count": 71,
   "outputs": [
    {
     "data": {
      "text/plain": "0    3.0\n1    5.0\n2    NaN\ndtype: float64"
     },
     "execution_count": 71,
     "metadata": {},
     "output_type": "execute_result"
    }
   ],
   "source": [
    "s = pd.Series([1, 2, 3])\n",
    "roller = s[::-1].rolling(window=2)\n",
    "roller.sum()[::-1]"
   ],
   "metadata": {
    "collapsed": false,
    "ExecuteTime": {
     "end_time": "2023-09-20T14:22:11.412625800Z",
     "start_time": "2023-09-20T14:22:11.405346800Z"
    }
   },
   "id": "b4cbef10e14af1e6"
  },
  {
   "cell_type": "code",
   "execution_count": 75,
   "outputs": [
    {
     "name": "stdout",
     "output_type": "stream",
     "text": [
      "Expanding [min_periods=1,axis=0,method=single] <class 'pandas.core.window.expanding.Expanding'>\n"
     ]
    },
    {
     "data": {
      "text/plain": "0    1.000000\n1    2.000000\n2    3.333333\n3    5.000000\ndtype: float64"
     },
     "execution_count": 75,
     "metadata": {},
     "output_type": "execute_result"
    }
   ],
   "source": [
    "# 扩张窗口函数 expanding()\n",
    "s = pd.Series([1, 3, 6, 10])\n",
    "expander = s.expanding()\n",
    "print(expander, type(expander))\n",
    "expander.mean()\n"
   ],
   "metadata": {
    "collapsed": false,
    "ExecuteTime": {
     "end_time": "2023-09-20T14:34:05.424259200Z",
     "start_time": "2023-09-20T14:34:05.408102700Z"
    }
   },
   "id": "ac80fe90cebffbf7"
  },
  {
   "cell_type": "code",
   "execution_count": 79,
   "outputs": [
    {
     "data": {
      "text/plain": "0      1.0\n1      3.0\n2     18.0\n3    180.0\ndtype: float64"
     },
     "execution_count": 79,
     "metadata": {},
     "output_type": "execute_result"
    }
   ],
   "source": [
    "s.cumsum()\n",
    "s.cumprod()\n",
    "expander.apply(lambda x: x.sum())\n",
    "expander.apply(lambda x: x.prod())\n"
   ],
   "metadata": {
    "collapsed": false,
    "ExecuteTime": {
     "end_time": "2023-09-20T14:35:56.827061100Z",
     "start_time": "2023-09-20T14:35:56.817472Z"
    }
   },
   "id": "468af1a180b886fb"
  },
  {
   "cell_type": "markdown",
   "source": [
    "## 2.5 习题"
   ],
   "metadata": {
    "collapsed": false
   },
   "id": "2ce81bc02f48a944"
  },
  {
   "cell_type": "code",
   "execution_count": 139,
   "outputs": [
    {
     "name": "stdout",
     "output_type": "stream",
     "text": [
      "<class 'pandas.core.frame.DataFrame'>\n",
      "RangeIndex: 10000 entries, 0 to 9999\n",
      "Data columns (total 5 columns):\n",
      " #   Column      Non-Null Count  Dtype \n",
      "---  ------      --------------  ----- \n",
      " 0   type_1      10000 non-null  object\n",
      " 1   type_2      10000 non-null  object\n",
      " 2   buy_price   10000 non-null  int64 \n",
      " 3   sale_price  10000 non-null  int64 \n",
      " 4   product_id  10000 non-null  object\n",
      "dtypes: int64(2), object(3)\n",
      "memory usage: 390.8+ KB\n"
     ]
    },
    {
     "data": {
      "text/plain": "  type_1 type_2  buy_price  sale_price product_id\n0     裤子    游泳裤        145         154    S007721\n1     鞋子     凉鞋         98         101    S007156\n2     鞋子     拖鞋        122         149    S002286\n3     鞋子     拖鞋         55          74    S009119\n4     鞋子     凉鞋         79         112    S004373",
      "text/html": "<div>\n<style scoped>\n    .dataframe tbody tr th:only-of-type {\n        vertical-align: middle;\n    }\n\n    .dataframe tbody tr th {\n        vertical-align: top;\n    }\n\n    .dataframe thead th {\n        text-align: right;\n    }\n</style>\n<table border=\"1\" class=\"dataframe\">\n  <thead>\n    <tr style=\"text-align: right;\">\n      <th></th>\n      <th>type_1</th>\n      <th>type_2</th>\n      <th>buy_price</th>\n      <th>sale_price</th>\n      <th>product_id</th>\n    </tr>\n  </thead>\n  <tbody>\n    <tr>\n      <th>0</th>\n      <td>裤子</td>\n      <td>游泳裤</td>\n      <td>145</td>\n      <td>154</td>\n      <td>S007721</td>\n    </tr>\n    <tr>\n      <th>1</th>\n      <td>鞋子</td>\n      <td>凉鞋</td>\n      <td>98</td>\n      <td>101</td>\n      <td>S007156</td>\n    </tr>\n    <tr>\n      <th>2</th>\n      <td>鞋子</td>\n      <td>拖鞋</td>\n      <td>122</td>\n      <td>149</td>\n      <td>S002286</td>\n    </tr>\n    <tr>\n      <th>3</th>\n      <td>鞋子</td>\n      <td>拖鞋</td>\n      <td>55</td>\n      <td>74</td>\n      <td>S009119</td>\n    </tr>\n    <tr>\n      <th>4</th>\n      <td>鞋子</td>\n      <td>凉鞋</td>\n      <td>79</td>\n      <td>112</td>\n      <td>S004373</td>\n    </tr>\n  </tbody>\n</table>\n</div>"
     },
     "execution_count": 139,
     "metadata": {},
     "output_type": "execute_result"
    }
   ],
   "source": [
    "# 整理某服装店的商品情况\n",
    "df = pd.read_csv(\"./src/ch2/clothing_store.csv\")\n",
    "df.info()\n",
    "df.head()"
   ],
   "metadata": {
    "collapsed": false,
    "ExecuteTime": {
     "end_time": "2023-09-20T15:39:59.815177800Z",
     "start_time": "2023-09-20T15:39:59.758465900Z"
    }
   },
   "id": "9d1a2319c325a8ff"
  },
  {
   "cell_type": "code",
   "execution_count": 140,
   "outputs": [
    {
     "data": {
      "text/plain": "24.3481"
     },
     "execution_count": 140,
     "metadata": {},
     "output_type": "execute_result"
    }
   ],
   "source": [
    "df['profit'] = df['sale_price'] - df['buy_price']\n",
    "df['profit'].mean()"
   ],
   "metadata": {
    "collapsed": false,
    "ExecuteTime": {
     "end_time": "2023-09-20T15:40:03.974666100Z",
     "start_time": "2023-09-20T15:40:03.955576500Z"
    }
   },
   "id": "33e0500f32b1a202"
  },
  {
   "cell_type": "code",
   "execution_count": 141,
   "outputs": [
    {
     "data": {
      "text/plain": "product_id\nS007721    商品一类级别为裤子，二类级别为游泳裤，进价和售价分别为145和154\nS007156      商品一类级别为鞋子，二类级别为凉鞋，进价和售价分别为98和101\nS002286     商品一类级别为鞋子，二类级别为拖鞋，进价和售价分别为122和149\nS009119       商品一类级别为鞋子，二类级别为拖鞋，进价和售价分别为55和74\nS004373      商品一类级别为鞋子，二类级别为凉鞋，进价和售价分别为79和112\n                          ...                \nS004636     商品一类级别为鞋子，二类级别为拖鞋，进价和售价分别为123和124\nS001560     商品一类级别为鞋子，二类级别为拖鞋，进价和售价分别为106和113\nS001280       商品一类级别为上衣，二类级别为T恤，进价和售价分别为68和75\nS001207     商品一类级别为裤子，二类级别为长裤，进价和售价分别为113和139\nS002475     商品一类级别为裤子，二类级别为中裤，进价和售价分别为122和138\nName: value, Length: 10000, dtype: object"
     },
     "execution_count": 141,
     "metadata": {},
     "output_type": "execute_result"
    }
   ],
   "source": [
    "pattern = \"商品一类级别为{}，二类级别为{}，进价和售价分别为{:d}和{:d}\"\n",
    "res: pd.Series = df.apply(lambda x: pattern.format(*x.values), axis=1)\n",
    "res.index = df['product_id']\n",
    "res.name = 'value'\n",
    "res"
   ],
   "metadata": {
    "collapsed": false,
    "ExecuteTime": {
     "end_time": "2023-09-20T15:40:06.312554200Z",
     "start_time": "2023-09-20T15:40:06.215987400Z"
    }
   },
   "id": "6021360b1f4e0593"
  },
  {
   "cell_type": "code",
   "execution_count": 142,
   "outputs": [
    {
     "data": {
      "text/plain": "           type_1 type_2\nproduct_id              \nS008754        裤子     拖鞋",
      "text/html": "<div>\n<style scoped>\n    .dataframe tbody tr th:only-of-type {\n        vertical-align: middle;\n    }\n\n    .dataframe tbody tr th {\n        vertical-align: top;\n    }\n\n    .dataframe thead th {\n        text-align: right;\n    }\n</style>\n<table border=\"1\" class=\"dataframe\">\n  <thead>\n    <tr style=\"text-align: right;\">\n      <th></th>\n      <th>type_1</th>\n      <th>type_2</th>\n    </tr>\n    <tr>\n      <th>product_id</th>\n      <th></th>\n      <th></th>\n    </tr>\n  </thead>\n  <tbody>\n    <tr>\n      <th>S008754</th>\n      <td>裤子</td>\n      <td>拖鞋</td>\n    </tr>\n  </tbody>\n</table>\n</div>"
     },
     "execution_count": 142,
     "metadata": {},
     "output_type": "execute_result"
    }
   ],
   "source": [
    "df_demo = df[['type_1', 'type_2', 'product_id']].set_index(\"product_id\")\n",
    "res = df_demo.drop_duplicates(keep='first')\n",
    "res.tail(1)\n"
   ],
   "metadata": {
    "collapsed": false,
    "ExecuteTime": {
     "end_time": "2023-09-20T15:40:09.125808100Z",
     "start_time": "2023-09-20T15:40:09.107138800Z"
    }
   },
   "id": "b44ad123ed24828d"
  },
  {
   "cell_type": "code",
   "execution_count": 145,
   "outputs": [
    {
     "data": {
      "text/plain": "     type_2 product_id\n1405     T恤    S009881\n162      中裤    S005119\n820     冲锋衣    S009181\n664      凉鞋    S001114\n858      拖鞋    S002385\n492     游泳裤    S009267\n515     羽绒服    S003205\n1073     跑鞋    S005340\n1824     长裤    S005169",
      "text/html": "<div>\n<style scoped>\n    .dataframe tbody tr th:only-of-type {\n        vertical-align: middle;\n    }\n\n    .dataframe tbody tr th {\n        vertical-align: top;\n    }\n\n    .dataframe thead th {\n        text-align: right;\n    }\n</style>\n<table border=\"1\" class=\"dataframe\">\n  <thead>\n    <tr style=\"text-align: right;\">\n      <th></th>\n      <th>type_2</th>\n      <th>product_id</th>\n    </tr>\n  </thead>\n  <tbody>\n    <tr>\n      <th>1405</th>\n      <td>T恤</td>\n      <td>S009881</td>\n    </tr>\n    <tr>\n      <th>162</th>\n      <td>中裤</td>\n      <td>S005119</td>\n    </tr>\n    <tr>\n      <th>820</th>\n      <td>冲锋衣</td>\n      <td>S009181</td>\n    </tr>\n    <tr>\n      <th>664</th>\n      <td>凉鞋</td>\n      <td>S001114</td>\n    </tr>\n    <tr>\n      <th>858</th>\n      <td>拖鞋</td>\n      <td>S002385</td>\n    </tr>\n    <tr>\n      <th>492</th>\n      <td>游泳裤</td>\n      <td>S009267</td>\n    </tr>\n    <tr>\n      <th>515</th>\n      <td>羽绒服</td>\n      <td>S003205</td>\n    </tr>\n    <tr>\n      <th>1073</th>\n      <td>跑鞋</td>\n      <td>S005340</td>\n    </tr>\n    <tr>\n      <th>1824</th>\n      <td>长裤</td>\n      <td>S005169</td>\n    </tr>\n  </tbody>\n</table>\n</div>"
     },
     "execution_count": 145,
     "metadata": {},
     "output_type": "execute_result"
    }
   ],
   "source": [
    "df_demo = df.copy()\n",
    "df_temp = df_demo.sort_values([\"type_2\", \"profit\"], ascending=[True, False])\n",
    "df_temp_2 = df_temp.drop_duplicates(\"type_2\", keep=\"first\")\n",
    "df_temp_2[['type_2', 'product_id']]\n"
   ],
   "metadata": {
    "collapsed": false,
    "ExecuteTime": {
     "end_time": "2023-09-20T15:41:54.608352100Z",
     "start_time": "2023-09-20T15:41:54.570472700Z"
    }
   },
   "id": "9c84dadd6bb0a429"
  },
  {
   "cell_type": "code",
   "execution_count": 146,
   "outputs": [
    {
     "data": {
      "text/plain": "  Student_ID  Mid_Term_Grade  Final_Grade  Question_Answering_Times  \\\n0       S001            84.0         69.0                         0   \n1       S002            81.0         83.0                         4   \n2       S003            83.0         64.0                         1   \n3       S004            66.0         89.0                         4   \n4       S005            95.0         45.0                         4   \n\n   Absence_Times  \n0              0  \n1              0  \n2             10  \n3              0  \n4              0  ",
      "text/html": "<div>\n<style scoped>\n    .dataframe tbody tr th:only-of-type {\n        vertical-align: middle;\n    }\n\n    .dataframe tbody tr th {\n        vertical-align: top;\n    }\n\n    .dataframe thead th {\n        text-align: right;\n    }\n</style>\n<table border=\"1\" class=\"dataframe\">\n  <thead>\n    <tr style=\"text-align: right;\">\n      <th></th>\n      <th>Student_ID</th>\n      <th>Mid_Term_Grade</th>\n      <th>Final_Grade</th>\n      <th>Question_Answering_Times</th>\n      <th>Absence_Times</th>\n    </tr>\n  </thead>\n  <tbody>\n    <tr>\n      <th>0</th>\n      <td>S001</td>\n      <td>84.0</td>\n      <td>69.0</td>\n      <td>0</td>\n      <td>0</td>\n    </tr>\n    <tr>\n      <th>1</th>\n      <td>S002</td>\n      <td>81.0</td>\n      <td>83.0</td>\n      <td>4</td>\n      <td>0</td>\n    </tr>\n    <tr>\n      <th>2</th>\n      <td>S003</td>\n      <td>83.0</td>\n      <td>64.0</td>\n      <td>1</td>\n      <td>10</td>\n    </tr>\n    <tr>\n      <th>3</th>\n      <td>S004</td>\n      <td>66.0</td>\n      <td>89.0</td>\n      <td>4</td>\n      <td>0</td>\n    </tr>\n    <tr>\n      <th>4</th>\n      <td>S005</td>\n      <td>95.0</td>\n      <td>45.0</td>\n      <td>4</td>\n      <td>0</td>\n    </tr>\n  </tbody>\n</table>\n</div>"
     },
     "execution_count": 146,
     "metadata": {},
     "output_type": "execute_result"
    }
   ],
   "source": [
    "# 汇总某课程的学生总评分数\n",
    "data = pd.read_csv(\"./src/ch2/student_grade.csv\")\n",
    "data.head()"
   ],
   "metadata": {
    "collapsed": false,
    "ExecuteTime": {
     "end_time": "2023-09-20T15:47:01.676394400Z",
     "start_time": "2023-09-20T15:47:01.642140800Z"
    }
   },
   "id": "91283ad275b98801"
  },
  {
   "cell_type": "code",
   "execution_count": 150,
   "outputs": [
    {
     "data": {
      "text/plain": "   Student_ID  Mid_Term_Grade  Final_Grade  Question_Answering_Times  \\\n33       S034            67.0         92.0                        30   \n\n    Absence_Times  \n33              0  ",
      "text/html": "<div>\n<style scoped>\n    .dataframe tbody tr th:only-of-type {\n        vertical-align: middle;\n    }\n\n    .dataframe tbody tr th {\n        vertical-align: top;\n    }\n\n    .dataframe thead th {\n        text-align: right;\n    }\n</style>\n<table border=\"1\" class=\"dataframe\">\n  <thead>\n    <tr style=\"text-align: right;\">\n      <th></th>\n      <th>Student_ID</th>\n      <th>Mid_Term_Grade</th>\n      <th>Final_Grade</th>\n      <th>Question_Answering_Times</th>\n      <th>Absence_Times</th>\n    </tr>\n  </thead>\n  <tbody>\n    <tr>\n      <th>33</th>\n      <td>S034</td>\n      <td>67.0</td>\n      <td>92.0</td>\n      <td>30</td>\n      <td>0</td>\n    </tr>\n  </tbody>\n</table>\n</div>"
     },
     "execution_count": 150,
     "metadata": {},
     "output_type": "execute_result"
    }
   ],
   "source": [
    "data.sort_values(['Absence_Times', 'Question_Answering_Times'], ascending=[True, False]).head(1)"
   ],
   "metadata": {
    "collapsed": false,
    "ExecuteTime": {
     "end_time": "2023-09-20T15:57:36.243388Z",
     "start_time": "2023-09-20T15:57:36.205727900Z"
    }
   },
   "id": "55a73dbf932c9cad"
  },
  {
   "cell_type": "code",
   "execution_count": 170,
   "outputs": [
    {
     "data": {
      "text/plain": "    Student_ID  Mid_Term_Grade  Final_Grade  Question_Answering_Times  \\\n0         S001            84.0         69.0                         0   \n1         S002            81.0         83.0                         4   \n2         S003            83.0         64.0                         1   \n3         S004            66.0         89.0                         4   \n4         S005            95.0         45.0                         4   \n..         ...             ...          ...                       ...   \n195       S196            84.0         67.0                         1   \n196       S197            77.0         78.0                         0   \n197       S198            71.0         63.0                         1   \n198       S199            78.0         85.0                         0   \n199       S200            83.0         75.0                         0   \n\n     Absence_Times  Summary  \n0                0     75.0  \n1                0     86.2  \n2               10      0.0  \n3                0     83.8  \n4                0     69.0  \n..             ...      ...  \n195              0     74.8  \n196              2     67.6  \n197              2     57.2  \n198              0     82.2  \n199              0     78.2  \n\n[200 rows x 6 columns]",
      "text/html": "<div>\n<style scoped>\n    .dataframe tbody tr th:only-of-type {\n        vertical-align: middle;\n    }\n\n    .dataframe tbody tr th {\n        vertical-align: top;\n    }\n\n    .dataframe thead th {\n        text-align: right;\n    }\n</style>\n<table border=\"1\" class=\"dataframe\">\n  <thead>\n    <tr style=\"text-align: right;\">\n      <th></th>\n      <th>Student_ID</th>\n      <th>Mid_Term_Grade</th>\n      <th>Final_Grade</th>\n      <th>Question_Answering_Times</th>\n      <th>Absence_Times</th>\n      <th>Summary</th>\n    </tr>\n  </thead>\n  <tbody>\n    <tr>\n      <th>0</th>\n      <td>S001</td>\n      <td>84.0</td>\n      <td>69.0</td>\n      <td>0</td>\n      <td>0</td>\n      <td>75.0</td>\n    </tr>\n    <tr>\n      <th>1</th>\n      <td>S002</td>\n      <td>81.0</td>\n      <td>83.0</td>\n      <td>4</td>\n      <td>0</td>\n      <td>86.2</td>\n    </tr>\n    <tr>\n      <th>2</th>\n      <td>S003</td>\n      <td>83.0</td>\n      <td>64.0</td>\n      <td>1</td>\n      <td>10</td>\n      <td>0.0</td>\n    </tr>\n    <tr>\n      <th>3</th>\n      <td>S004</td>\n      <td>66.0</td>\n      <td>89.0</td>\n      <td>4</td>\n      <td>0</td>\n      <td>83.8</td>\n    </tr>\n    <tr>\n      <th>4</th>\n      <td>S005</td>\n      <td>95.0</td>\n      <td>45.0</td>\n      <td>4</td>\n      <td>0</td>\n      <td>69.0</td>\n    </tr>\n    <tr>\n      <th>...</th>\n      <td>...</td>\n      <td>...</td>\n      <td>...</td>\n      <td>...</td>\n      <td>...</td>\n      <td>...</td>\n    </tr>\n    <tr>\n      <th>195</th>\n      <td>S196</td>\n      <td>84.0</td>\n      <td>67.0</td>\n      <td>1</td>\n      <td>0</td>\n      <td>74.8</td>\n    </tr>\n    <tr>\n      <th>196</th>\n      <td>S197</td>\n      <td>77.0</td>\n      <td>78.0</td>\n      <td>0</td>\n      <td>2</td>\n      <td>67.6</td>\n    </tr>\n    <tr>\n      <th>197</th>\n      <td>S198</td>\n      <td>71.0</td>\n      <td>63.0</td>\n      <td>1</td>\n      <td>2</td>\n      <td>57.2</td>\n    </tr>\n    <tr>\n      <th>198</th>\n      <td>S199</td>\n      <td>78.0</td>\n      <td>85.0</td>\n      <td>0</td>\n      <td>0</td>\n      <td>82.2</td>\n    </tr>\n    <tr>\n      <th>199</th>\n      <td>S200</td>\n      <td>83.0</td>\n      <td>75.0</td>\n      <td>0</td>\n      <td>0</td>\n      <td>78.2</td>\n    </tr>\n  </tbody>\n</table>\n<p>200 rows × 6 columns</p>\n</div>"
     },
     "execution_count": 170,
     "metadata": {},
     "output_type": "execute_result"
    }
   ],
   "source": [
    "df_data = data.copy()\n",
    "df_data['Question_Answering_Times'].clip(0, 10, inplace=True)\n",
    "df_data['Summary'] = 0.4 * df_data['Mid_Term_Grade'] + 0.6 * df_data['Final_Grade'] + df_data[\n",
    "    'Question_Answering_Times'] - 5 * df_data['Absence_Times']\n",
    "df_data['Summary'].mask(df_data['Absence_Times'] > 5, 0, inplace=True)\n",
    "df_data['Summary'].clip(0, 100, inplace=True)\n",
    "df_data"
   ],
   "metadata": {
    "collapsed": false,
    "ExecuteTime": {
     "end_time": "2023-09-20T16:22:05.175595500Z",
     "start_time": "2023-09-20T16:22:05.136879800Z"
    }
   },
   "id": "35a087b4504bc0c4"
  },
  {
   "cell_type": "code",
   "execution_count": 177,
   "outputs": [
    {
     "data": {
      "text/plain": "level\n及格     0.50\n良好     0.32\n优秀     0.10\n不及格    0.08\nName: proportion, dtype: float64"
     },
     "execution_count": 177,
     "metadata": {},
     "output_type": "execute_result"
    }
   ],
   "source": [
    "def to_level(x):\n",
    "    x = x // 10\n",
    "    if x in range(6, 8):\n",
    "        res = '及格'\n",
    "    elif x in range(8, 9):\n",
    "        res = '良好'\n",
    "    elif x in range(0, 6):\n",
    "        res = '不及格'\n",
    "    else:\n",
    "        res = '优秀'\n",
    "    return res\n",
    "\n",
    "\n",
    "df_data['level'] = df_data['Summary'].apply(to_level)\n",
    "df_data\n",
    "df_data['level'].value_counts(normalize=True)"
   ],
   "metadata": {
    "collapsed": false,
    "ExecuteTime": {
     "end_time": "2023-09-20T16:36:30.808431700Z",
     "start_time": "2023-09-20T16:36:30.735689400Z"
    }
   },
   "id": "42c8e583ae0bb413"
  },
  {
   "cell_type": "markdown",
   "source": [
    "# 第三章 索引"
   ],
   "metadata": {
    "collapsed": false
   },
   "id": "1b465631267d6839"
  },
  {
   "cell_type": "markdown",
   "source": [
    "## 3.1 单级索引"
   ],
   "metadata": {
    "collapsed": false
   },
   "id": "c82bff4ed37553f0"
  },
  {
   "cell_type": "code",
   "execution_count": 1,
   "outputs": [
    {
     "data": {
      "text/plain": "  School      Grade            Name  Gender  Height  Weight Transfer  \\\n0      A   Freshman    Gaopeng Yang  Female   158.9    46.0        N   \n1      B   Freshman  Changqiang You    Male   166.5    70.0        N   \n2      A     Senior         Mei Sun    Male   188.9    89.0        N   \n3      C  Sophomore    Xiaojuan Sun  Female     NaN    41.0        N   \n4      C  Sophomore     Gaojuan You    Male   174.0    74.0        N   \n\n   Test_Number  Test_Date Time_Record  \n0            1  2019/10/5     0:04:34  \n1            1   2019/9/4     0:04:20  \n2            2  2019/9/12     0:05:22  \n3            2   2020/1/3     0:04:08  \n4            2  2019/11/6     0:05:22  ",
      "text/html": "<div>\n<style scoped>\n    .dataframe tbody tr th:only-of-type {\n        vertical-align: middle;\n    }\n\n    .dataframe tbody tr th {\n        vertical-align: top;\n    }\n\n    .dataframe thead th {\n        text-align: right;\n    }\n</style>\n<table border=\"1\" class=\"dataframe\">\n  <thead>\n    <tr style=\"text-align: right;\">\n      <th></th>\n      <th>School</th>\n      <th>Grade</th>\n      <th>Name</th>\n      <th>Gender</th>\n      <th>Height</th>\n      <th>Weight</th>\n      <th>Transfer</th>\n      <th>Test_Number</th>\n      <th>Test_Date</th>\n      <th>Time_Record</th>\n    </tr>\n  </thead>\n  <tbody>\n    <tr>\n      <th>0</th>\n      <td>A</td>\n      <td>Freshman</td>\n      <td>Gaopeng Yang</td>\n      <td>Female</td>\n      <td>158.9</td>\n      <td>46.0</td>\n      <td>N</td>\n      <td>1</td>\n      <td>2019/10/5</td>\n      <td>0:04:34</td>\n    </tr>\n    <tr>\n      <th>1</th>\n      <td>B</td>\n      <td>Freshman</td>\n      <td>Changqiang You</td>\n      <td>Male</td>\n      <td>166.5</td>\n      <td>70.0</td>\n      <td>N</td>\n      <td>1</td>\n      <td>2019/9/4</td>\n      <td>0:04:20</td>\n    </tr>\n    <tr>\n      <th>2</th>\n      <td>A</td>\n      <td>Senior</td>\n      <td>Mei Sun</td>\n      <td>Male</td>\n      <td>188.9</td>\n      <td>89.0</td>\n      <td>N</td>\n      <td>2</td>\n      <td>2019/9/12</td>\n      <td>0:05:22</td>\n    </tr>\n    <tr>\n      <th>3</th>\n      <td>C</td>\n      <td>Sophomore</td>\n      <td>Xiaojuan Sun</td>\n      <td>Female</td>\n      <td>NaN</td>\n      <td>41.0</td>\n      <td>N</td>\n      <td>2</td>\n      <td>2020/1/3</td>\n      <td>0:04:08</td>\n    </tr>\n    <tr>\n      <th>4</th>\n      <td>C</td>\n      <td>Sophomore</td>\n      <td>Gaojuan You</td>\n      <td>Male</td>\n      <td>174.0</td>\n      <td>74.0</td>\n      <td>N</td>\n      <td>2</td>\n      <td>2019/11/6</td>\n      <td>0:05:22</td>\n    </tr>\n  </tbody>\n</table>\n</div>"
     },
     "execution_count": 1,
     "metadata": {},
     "output_type": "execute_result"
    }
   ],
   "source": [
    "import pandas as pd\n",
    "\n",
    "df = pd.read_csv(\"./src/learn_pandas.csv\")\n",
    "df.head()\n"
   ],
   "metadata": {
    "collapsed": false,
    "ExecuteTime": {
     "end_time": "2023-09-21T12:43:55.696096Z",
     "start_time": "2023-09-21T12:43:54.845605600Z"
    }
   },
   "id": "7f249373d0f3e41c"
  },
  {
   "cell_type": "code",
   "execution_count": 14,
   "outputs": [
    {
     "data": {
      "text/plain": "              School     Grade  Gender  Height  Weight Transfer  Test_Number  \\\nName                                                                           \nGaopeng Yang       A  Freshman  Female   158.9    46.0        N            1   \nQiang Chu          A  Freshman  Female   162.5    52.0        N            1   \nGaopeng Shi        B  Freshman  Female   162.9    48.0        N            1   \nQuan Chu           B  Freshman  Female   154.7    43.0        N            1   \nChangquan Chu      B  Freshman  Female   159.6    45.0        N            2   \nXiaopeng Han       B  Freshman  Female   164.1    53.0        N            1   \nChangmei Feng      B  Freshman  Female   163.8    56.0        N            3   \nXiaopeng Zhao      A  Freshman  Female   161.0    53.0        N            3   \nPeng Zhang         A  Freshman  Female   163.1     NaN        N            3   \nXiaoquan Sun       A  Freshman  Female   154.6    40.0        N            3   \nQiang Zhang        B  Freshman  Female   152.7    43.0        N            1   \nChunmei Shi        A  Freshman  Female   164.9    52.0        N            1   \nXiaomei Yang       A  Freshman  Female   159.3    49.0        N            1   \nXiaofeng Qian      A  Freshman  Female   158.5    49.0        N            1   \nChunmei Wang       B  Freshman  Female   151.2    43.0        N            2   \n\n                Test_Date Time_Record  \nName                                   \nGaopeng Yang    2019/10/5     0:04:34  \nQiang Chu      2019/12/12     0:03:53  \nGaopeng Shi     2019/9/12     0:04:58  \nQuan Chu       2019/11/28     0:04:47  \nChangquan Chu   2019/12/9     0:04:18  \nXiaopeng Han   2019/12/18     0:05:20  \nChangmei Feng   2019/11/8     0:04:41  \nXiaopeng Zhao   2019/9/25     0:05:13  \nPeng Zhang      2019/9/23     0:04:31  \nXiaoquan Sun   2019/11/12     0:04:05  \nQiang Zhang    2019/11/30     0:05:27  \nChunmei Shi      2019/9/8     0:03:33  \nXiaomei Yang    2019/9/17     0:04:22  \nXiaofeng Qian  2019/10/19     0:05:26  \nChunmei Wang   2019/12/10     0:04:24  ",
      "text/html": "<div>\n<style scoped>\n    .dataframe tbody tr th:only-of-type {\n        vertical-align: middle;\n    }\n\n    .dataframe tbody tr th {\n        vertical-align: top;\n    }\n\n    .dataframe thead th {\n        text-align: right;\n    }\n</style>\n<table border=\"1\" class=\"dataframe\">\n  <thead>\n    <tr style=\"text-align: right;\">\n      <th></th>\n      <th>School</th>\n      <th>Grade</th>\n      <th>Gender</th>\n      <th>Height</th>\n      <th>Weight</th>\n      <th>Transfer</th>\n      <th>Test_Number</th>\n      <th>Test_Date</th>\n      <th>Time_Record</th>\n    </tr>\n    <tr>\n      <th>Name</th>\n      <th></th>\n      <th></th>\n      <th></th>\n      <th></th>\n      <th></th>\n      <th></th>\n      <th></th>\n      <th></th>\n      <th></th>\n    </tr>\n  </thead>\n  <tbody>\n    <tr>\n      <th>Gaopeng Yang</th>\n      <td>A</td>\n      <td>Freshman</td>\n      <td>Female</td>\n      <td>158.9</td>\n      <td>46.0</td>\n      <td>N</td>\n      <td>1</td>\n      <td>2019/10/5</td>\n      <td>0:04:34</td>\n    </tr>\n    <tr>\n      <th>Qiang Chu</th>\n      <td>A</td>\n      <td>Freshman</td>\n      <td>Female</td>\n      <td>162.5</td>\n      <td>52.0</td>\n      <td>N</td>\n      <td>1</td>\n      <td>2019/12/12</td>\n      <td>0:03:53</td>\n    </tr>\n    <tr>\n      <th>Gaopeng Shi</th>\n      <td>B</td>\n      <td>Freshman</td>\n      <td>Female</td>\n      <td>162.9</td>\n      <td>48.0</td>\n      <td>N</td>\n      <td>1</td>\n      <td>2019/9/12</td>\n      <td>0:04:58</td>\n    </tr>\n    <tr>\n      <th>Quan Chu</th>\n      <td>B</td>\n      <td>Freshman</td>\n      <td>Female</td>\n      <td>154.7</td>\n      <td>43.0</td>\n      <td>N</td>\n      <td>1</td>\n      <td>2019/11/28</td>\n      <td>0:04:47</td>\n    </tr>\n    <tr>\n      <th>Changquan Chu</th>\n      <td>B</td>\n      <td>Freshman</td>\n      <td>Female</td>\n      <td>159.6</td>\n      <td>45.0</td>\n      <td>N</td>\n      <td>2</td>\n      <td>2019/12/9</td>\n      <td>0:04:18</td>\n    </tr>\n    <tr>\n      <th>Xiaopeng Han</th>\n      <td>B</td>\n      <td>Freshman</td>\n      <td>Female</td>\n      <td>164.1</td>\n      <td>53.0</td>\n      <td>N</td>\n      <td>1</td>\n      <td>2019/12/18</td>\n      <td>0:05:20</td>\n    </tr>\n    <tr>\n      <th>Changmei Feng</th>\n      <td>B</td>\n      <td>Freshman</td>\n      <td>Female</td>\n      <td>163.8</td>\n      <td>56.0</td>\n      <td>N</td>\n      <td>3</td>\n      <td>2019/11/8</td>\n      <td>0:04:41</td>\n    </tr>\n    <tr>\n      <th>Xiaopeng Zhao</th>\n      <td>A</td>\n      <td>Freshman</td>\n      <td>Female</td>\n      <td>161.0</td>\n      <td>53.0</td>\n      <td>N</td>\n      <td>3</td>\n      <td>2019/9/25</td>\n      <td>0:05:13</td>\n    </tr>\n    <tr>\n      <th>Peng Zhang</th>\n      <td>A</td>\n      <td>Freshman</td>\n      <td>Female</td>\n      <td>163.1</td>\n      <td>NaN</td>\n      <td>N</td>\n      <td>3</td>\n      <td>2019/9/23</td>\n      <td>0:04:31</td>\n    </tr>\n    <tr>\n      <th>Xiaoquan Sun</th>\n      <td>A</td>\n      <td>Freshman</td>\n      <td>Female</td>\n      <td>154.6</td>\n      <td>40.0</td>\n      <td>N</td>\n      <td>3</td>\n      <td>2019/11/12</td>\n      <td>0:04:05</td>\n    </tr>\n    <tr>\n      <th>Qiang Zhang</th>\n      <td>B</td>\n      <td>Freshman</td>\n      <td>Female</td>\n      <td>152.7</td>\n      <td>43.0</td>\n      <td>N</td>\n      <td>1</td>\n      <td>2019/11/30</td>\n      <td>0:05:27</td>\n    </tr>\n    <tr>\n      <th>Chunmei Shi</th>\n      <td>A</td>\n      <td>Freshman</td>\n      <td>Female</td>\n      <td>164.9</td>\n      <td>52.0</td>\n      <td>N</td>\n      <td>1</td>\n      <td>2019/9/8</td>\n      <td>0:03:33</td>\n    </tr>\n    <tr>\n      <th>Xiaomei Yang</th>\n      <td>A</td>\n      <td>Freshman</td>\n      <td>Female</td>\n      <td>159.3</td>\n      <td>49.0</td>\n      <td>N</td>\n      <td>1</td>\n      <td>2019/9/17</td>\n      <td>0:04:22</td>\n    </tr>\n    <tr>\n      <th>Xiaofeng Qian</th>\n      <td>A</td>\n      <td>Freshman</td>\n      <td>Female</td>\n      <td>158.5</td>\n      <td>49.0</td>\n      <td>N</td>\n      <td>1</td>\n      <td>2019/10/19</td>\n      <td>0:05:26</td>\n    </tr>\n    <tr>\n      <th>Chunmei Wang</th>\n      <td>B</td>\n      <td>Freshman</td>\n      <td>Female</td>\n      <td>151.2</td>\n      <td>43.0</td>\n      <td>N</td>\n      <td>2</td>\n      <td>2019/12/10</td>\n      <td>0:04:24</td>\n    </tr>\n  </tbody>\n</table>\n</div>"
     },
     "execution_count": 14,
     "metadata": {},
     "output_type": "execute_result"
    }
   ],
   "source": [
    "df_demo = df.set_index([\"Name\"]).copy()\n",
    "df_demo.loc[((df_demo[\"School\"] == \"A\") | (df_demo[\"School\"] == \"B\" ))& (df_demo[\"Grade\"] == \"Freshman\") & (df_demo[\"Gender\"] == \"Female\")]\n"
   ],
   "metadata": {
    "collapsed": false,
    "ExecuteTime": {
     "end_time": "2023-09-21T13:11:11.848006100Z",
     "start_time": "2023-09-21T13:11:11.801197600Z"
    }
   },
   "id": "5cb8fa349d525377"
  },
  {
   "cell_type": "code",
   "execution_count": 16,
   "outputs": [
    {
     "data": {
      "text/plain": "   School   Grade           Name  Gender  Height  Weight Transfer  \\\n2       A  Senior        Mei Sun    Male   188.9    89.0        N   \n7       D  Junior  Gaoqiang Qian  Female   161.9    50.0        N   \n9       B  Junior        Juan Xu  Female   164.8     NaN        N   \n11      D  Junior    Xiaoquan Lv  Female   153.2    43.0        N   \n12      A  Senior       Peng You  Female     NaN    48.0      NaN   \n\n    Test_Number   Test_Date Time_Record  \n2             2   2019/9/12     0:05:22  \n7             1    2019/9/3     0:03:45  \n9             3   2019/10/5     0:04:05  \n11            2   2019/9/16     0:04:49  \n12            2  2019/10/20     0:04:10  ",
      "text/html": "<div>\n<style scoped>\n    .dataframe tbody tr th:only-of-type {\n        vertical-align: middle;\n    }\n\n    .dataframe tbody tr th {\n        vertical-align: top;\n    }\n\n    .dataframe thead th {\n        text-align: right;\n    }\n</style>\n<table border=\"1\" class=\"dataframe\">\n  <thead>\n    <tr style=\"text-align: right;\">\n      <th></th>\n      <th>School</th>\n      <th>Grade</th>\n      <th>Name</th>\n      <th>Gender</th>\n      <th>Height</th>\n      <th>Weight</th>\n      <th>Transfer</th>\n      <th>Test_Number</th>\n      <th>Test_Date</th>\n      <th>Time_Record</th>\n    </tr>\n  </thead>\n  <tbody>\n    <tr>\n      <th>2</th>\n      <td>A</td>\n      <td>Senior</td>\n      <td>Mei Sun</td>\n      <td>Male</td>\n      <td>188.9</td>\n      <td>89.0</td>\n      <td>N</td>\n      <td>2</td>\n      <td>2019/9/12</td>\n      <td>0:05:22</td>\n    </tr>\n    <tr>\n      <th>7</th>\n      <td>D</td>\n      <td>Junior</td>\n      <td>Gaoqiang Qian</td>\n      <td>Female</td>\n      <td>161.9</td>\n      <td>50.0</td>\n      <td>N</td>\n      <td>1</td>\n      <td>2019/9/3</td>\n      <td>0:03:45</td>\n    </tr>\n    <tr>\n      <th>9</th>\n      <td>B</td>\n      <td>Junior</td>\n      <td>Juan Xu</td>\n      <td>Female</td>\n      <td>164.8</td>\n      <td>NaN</td>\n      <td>N</td>\n      <td>3</td>\n      <td>2019/10/5</td>\n      <td>0:04:05</td>\n    </tr>\n    <tr>\n      <th>11</th>\n      <td>D</td>\n      <td>Junior</td>\n      <td>Xiaoquan Lv</td>\n      <td>Female</td>\n      <td>153.2</td>\n      <td>43.0</td>\n      <td>N</td>\n      <td>2</td>\n      <td>2019/9/16</td>\n      <td>0:04:49</td>\n    </tr>\n    <tr>\n      <th>12</th>\n      <td>A</td>\n      <td>Senior</td>\n      <td>Peng You</td>\n      <td>Female</td>\n      <td>NaN</td>\n      <td>48.0</td>\n      <td>NaN</td>\n      <td>2</td>\n      <td>2019/10/20</td>\n      <td>0:04:10</td>\n    </tr>\n  </tbody>\n</table>\n</div>"
     },
     "execution_count": 16,
     "metadata": {},
     "output_type": "execute_result"
    }
   ],
   "source": [
    "df_demo.query('(School in [\"A\",\"B\"]) & (Grade == \"Freshman\") & (Gender == \"Female\")')\n",
    "\n",
    "query_list=[\"Junior\",\"Senior\"]\n",
    "df.query('Grade == @query_list').head()"
   ],
   "metadata": {
    "collapsed": false,
    "ExecuteTime": {
     "end_time": "2023-09-21T13:13:14.455432500Z",
     "start_time": "2023-09-21T13:13:14.427507Z"
    }
   },
   "id": "510a9d963721c79a"
  },
  {
   "cell_type": "code",
   "execution_count": 21,
   "outputs": [
    {
     "data": {
      "text/plain": "Index(['a', 'c'], dtype='object')"
     },
     "execution_count": 21,
     "metadata": {},
     "output_type": "execute_result"
    }
   ],
   "source": [
    "df_set_1=pd.DataFrame([[0,1],[1,2],[3,4]],index=pd.Index(['a','b','a'],name='id1'))\n",
    "df_set_2=pd.DataFrame([[4,5],[2,6],[7,1]],index=pd.Index(['b','b','c'],name='id2'))\n",
    "id1=df_set_1.index.unique()\n",
    "id2=df_set_2.index.unique()\n",
    "id1.intersection(id2)\n",
    "id1.union(id2)\n",
    "id1.difference(id2)\n",
    "id1.symmetric_difference(id2)"
   ],
   "metadata": {
    "collapsed": false,
    "ExecuteTime": {
     "end_time": "2023-09-21T13:25:58.090756300Z",
     "start_time": "2023-09-21T13:25:58.045086800Z"
    }
   },
   "id": "ea1ea77de0b4592e"
  },
  {
   "cell_type": "markdown",
   "source": [
    "## 3.2 多级索引"
   ],
   "metadata": {
    "collapsed": false
   },
   "id": "6c7ce73b011d6e72"
  },
  {
   "cell_type": "code",
   "execution_count": 36,
   "outputs": [
    {
     "data": {
      "text/plain": "Index(['A', 'A', 'A', 'B', 'B', 'B', 'C', 'C', 'C', 'D', 'D', 'D'], dtype='object')"
     },
     "execution_count": 36,
     "metadata": {},
     "output_type": "execute_result"
    }
   ],
   "source": [
    "multi_index=pd.MultiIndex.from_product([list(\"ABCD\"),[2,1,3]],sortorder=0)\n",
    "multi_index.get_level_values(0)"
   ],
   "metadata": {
    "collapsed": false,
    "ExecuteTime": {
     "end_time": "2023-09-21T13:58:45.123537400Z",
     "start_time": "2023-09-21T13:58:45.088538900Z"
    }
   },
   "id": "ca6aa271bb4bb884"
  },
  {
   "cell_type": "markdown",
   "source": [
    "## 3.3 常见索引方法"
   ],
   "metadata": {
    "collapsed": false
   },
   "id": "8a7b0a518a8c45e0"
  }
 ],
 "metadata": {
  "kernelspec": {
   "display_name": "Python 3",
   "language": "python",
   "name": "python3"
  },
  "language_info": {
   "codemirror_mode": {
    "name": "ipython",
    "version": 2
   },
   "file_extension": ".py",
   "mimetype": "text/x-python",
   "name": "python",
   "nbconvert_exporter": "python",
   "pygments_lexer": "ipython2",
   "version": "2.7.6"
  }
 },
 "nbformat": 4,
 "nbformat_minor": 5
}
