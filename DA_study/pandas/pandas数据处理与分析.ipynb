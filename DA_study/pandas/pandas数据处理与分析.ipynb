{
 "cells": [
  {
   "cell_type": "markdown",
   "source": [
    "# 第一章 预备知识"
   ],
   "metadata": {
    "collapsed": false
   },
   "id": "4080a2d095717467"
  },
  {
   "cell_type": "markdown",
   "source": [
    "## 1.1 Python基础"
   ],
   "metadata": {
    "collapsed": false
   },
   "id": "96b4cbff4b72ae59"
  },
  {
   "cell_type": "markdown",
   "source": [
    "### 1.1.1 推导式"
   ],
   "metadata": {
    "collapsed": false
   },
   "id": "68f8423a53113342"
  },
  {
   "cell_type": "code",
   "execution_count": 82,
   "outputs": [
    {
     "data": {
      "text/plain": "{'green': 5, 'black': 5, 'white': 5, 'red': 3, 'bule': 4}"
     },
     "execution_count": 82,
     "metadata": {},
     "output_type": "execute_result"
    }
   ],
   "source": [
    "# exp_1\n",
    "str_list = [\"green\", \"black\", \"white\", \"red\", \"bule\"]\n",
    "str_dict = {item: len(item) for item in str_list}\n",
    "str_dict"
   ],
   "metadata": {
    "collapsed": false,
    "ExecuteTime": {
     "end_time": "2023-09-10T15:00:58.854170700Z",
     "start_time": "2023-09-10T15:00:58.746703400Z"
    }
   },
   "id": "166da2dde3e6b0e2"
  },
  {
   "cell_type": "code",
   "execution_count": 83,
   "outputs": [
    {
     "data": {
      "text/plain": "[[17,\n  58,\n  38,\n  14,\n  30,\n  13,\n  10,\n  21,\n  19,\n  12,\n  15,\n  19,\n  18,\n  17,\n  35,\n  19,\n  10,\n  24,\n  18,\n  15],\n [38, 10, 86, 5, 9, 23, 6, 38, 32, 31, 12, 2, 2, 53, 8, 17, 21, 12, 14, 1],\n [63,\n  20,\n  44,\n  46,\n  10,\n  16,\n  28,\n  59,\n  59,\n  62,\n  24,\n  2,\n  44,\n  79,\n  15,\n  81,\n  27,\n  17,\n  11,\n  10],\n [2, 22, 26, 49, 66, 65, 0, 59, 24, 22, 25, 28, 26, 22, 57, 3, 3, 60, 10, 19],\n [8, 12, 0, 10, 0, 26, 46, 50, 21, 7, 45, 15, 8, 19, 43, 19, 27, 24, 32, 47],\n [8, 19, 20, 51, 22, 38, 6, 10, 10, 36, 33, 6, 32, 42, 7, 15, 36, 44, 38, 36],\n [2, 1, 10, 7, 4, 6, 24, 71, 64, 18, 12, 44, 68, 63, 22, 26, 37, 11, 29, 57],\n [64, 1, 4, 0, 75, 60, 36, 2, 74, 1, 29, 2, 48, 2, 3, 9, 0, 33, 72, 61],\n [29, 1, 13, 20, 41, 41, 13, 4, 4, 35, 10, 66, 47, 8, 3, 31, 17, 11, 29, 3],\n [19, 3, 8, 71, 13, 21, 2, 41, 15, 1, 22, 13, 65, 12, 1, 58, 48, 28, 39, 0],\n [8, 66, 15, 16, 27, 48, 2, 12, 18, 0, 30, 9, 11, 9, 63, 41, 71, 12, 31, 2],\n [1, 3, 1, 41, 15, 27, 24, 3, 1, 7, 10, 37, 67, 37, 5, 2, 3, 28, 25, 35],\n [10, 0, 28, 40, 6, 38, 42, 9, 22, 41, 24, 11, 13, 14, 1, 20, 16, 44, 16, 7],\n [19, 9, 29, 2, 44, 45, 1, 47, 27, 11, 7, 22, 9, 57, 26, 20, 6, 6, 40, 1],\n [58, 21, 28, 27, 39, 36, 13, 7, 5, 28, 39, 17, 26, 6, 8, 17, 1, 25, 33, 28],\n [34,\n  10,\n  56,\n  30,\n  11,\n  20,\n  35,\n  11,\n  26,\n  41,\n  27,\n  3,\n  62,\n  1,\n  22,\n  15,\n  42,\n  24,\n  38,\n  22],\n [4, 25, 17, 5, 19, 42, 5, 26, 14, 3, 33, 46, 1, 33, 1, 7, 57, 55, 13, 12],\n [3, 57, 34, 67, 45, 22, 41, 6, 3, 28, 5, 2, 21, 1, 53, 13, 6, 58, 26, 15],\n [3, 30, 25, 6, 56, 41, 32, 3, 8, 20, 49, 5, 14, 25, 29, 32, 1, 15, 16, 1],\n [39, 2, 2, 81, 11, 0, 54, 7, 24, 34, 41, 53, 54, 62, 62, 89, 3, 50, 4, 46],\n [36, 9, 13, 38, 43, 6, 4, 29, 13, 10, 16, 41, 15, 2, 33, 13, 5, 13, 27, 28],\n [1, 0, 11, 48, 12, 3, 6, 1, 62, 21, 56, 38, 12, 79, 54, 3, 10, 40, 23, 16],\n [80, 47, 74, 1, 61, 7, 41, 30, 9, 67, 42, 7, 8, 20, 4, 8, 31, 43, 59, 7],\n [24, 8, 6, 36, 2, 26, 27, 33, 30, 48, 76, 11, 0, 43, 5, 52, 7, 42, 23, 9],\n [4, 42, 38, 40, 1, 1, 9, 5, 4, 22, 67, 7, 3, 46, 51, 16, 0, 32, 3, 64],\n [5, 18, 1, 71, 17, 66, 55, 8, 26, 15, 22, 18, 19, 31, 5, 1, 6, 28, 40, 7],\n [37, 69, 3, 10, 13, 15, 47, 37, 7, 7, 43, 27, 4, 38, 0, 13, 34, 28, 18, 14],\n [17, 51, 41, 15, 21, 15, 9, 21, 5, 24, 47, 39, 21, 62, 26, 17, 1, 32, 77, 0],\n [42,\n  15,\n  39,\n  10,\n  23,\n  24,\n  42,\n  36,\n  39,\n  19,\n  37,\n  37,\n  33,\n  29,\n  2,\n  56,\n  11,\n  46,\n  64,\n  45],\n [54, 31, 5, 27, 53, 4, 28, 72, 44, 28, 15, 57, 45, 16, 2, 18, 33, 23, 45, 9]]"
     },
     "execution_count": 83,
     "metadata": {},
     "output_type": "execute_result"
    }
   ],
   "source": [
    "# exp_2\n",
    "import random\n",
    "\n",
    "L1 = [[random.randint(0, 100) for m in range(20)] for n in range(30)]\n",
    "L2 = [[random.randint(0, 100) for m in range(20)] for n in range(30)]\n",
    "L3 = [[random.randint(0, 100) for m in range(20)] for n in range(30)]\n",
    "# L_min = [[min(m1, m2, m3) for m1 in n1 for m2 in n2 for m3 in n3] for n1 in L1 for n2 in L2 for n3 in L3]\n",
    "L_min = [[min(m1, m2, m3) for m1,m2,m3 in zip(n1,n2,n3)] for n1,n2,n3 in zip(L1,L2,L3)]\n",
    "L_min\n"
   ],
   "metadata": {
    "collapsed": false,
    "ExecuteTime": {
     "end_time": "2023-09-10T15:00:58.974644900Z",
     "start_time": "2023-09-10T15:00:58.756473300Z"
    }
   },
   "id": "3c7b97190342c646"
  },
  {
   "cell_type": "markdown",
   "source": [
    "### 1.1.2 匿名函数"
   ],
   "metadata": {
    "collapsed": false
   },
   "id": "261e559a87111c25"
  },
  {
   "cell_type": "code",
   "execution_count": 84,
   "outputs": [
    {
     "data": {
      "text/plain": "[[3, 4, 5], [6], [9]]"
     },
     "execution_count": 84,
     "metadata": {},
     "output_type": "execute_result"
    }
   ],
   "source": [
    "my_list = [[1, 2], [3, 4, 5], [6], [7, 8], [9]]\n",
    "list(filter(lambda x:any(True if i%3==0 else False for i in x) , my_list))\n"
   ],
   "metadata": {
    "collapsed": false,
    "ExecuteTime": {
     "end_time": "2023-09-10T15:00:58.975653800Z",
     "start_time": "2023-09-10T15:00:58.777462200Z"
    }
   },
   "id": "e3fa182527efea51"
  },
  {
   "cell_type": "markdown",
   "source": [
    "### 1.1.3 打包函数"
   ],
   "metadata": {
    "collapsed": false
   },
   "id": "87df69e1ed166b44"
  },
  {
   "cell_type": "code",
   "execution_count": 85,
   "outputs": [
    {
     "data": {
      "text/plain": "[(0, 'A'), (1, 'B'), (2, 'C'), (3, 'D')]"
     },
     "execution_count": 85,
     "metadata": {},
     "output_type": "execute_result"
    }
   ],
   "source": [
    "def diy_enumerate(l_num:list):\n",
    "    return list(zip(range(len(l_num)),l_num))\n",
    "list_1=['A','B','C','D']\n",
    "diy_enumerate(list_1)\n",
    "    \n",
    "    "
   ],
   "metadata": {
    "collapsed": false,
    "ExecuteTime": {
     "end_time": "2023-09-10T15:00:58.978653600Z",
     "start_time": "2023-09-10T15:00:58.787199600Z"
    }
   },
   "id": "e1bbdc0c156199a"
  },
  {
   "cell_type": "markdown",
   "source": [
    "## 1.2 Numpy 函数"
   ],
   "metadata": {
    "collapsed": false
   },
   "id": "f8f0f7b227844f04"
  },
  {
   "cell_type": "code",
   "execution_count": 86,
   "outputs": [
    {
     "data": {
      "text/plain": "array([[0, 1, 2, 3, 4, 5, 6, 7, 8, 9],\n       [0, 1, 2, 3, 4, 5, 6, 7, 8, 9],\n       [0, 1, 2, 3, 4, 5, 6, 7, 8, 9],\n       [0, 1, 2, 3, 4, 5, 6, 7, 8, 9],\n       [0, 1, 2, 3, 4, 5, 6, 7, 8, 9],\n       [0, 1, 2, 3, 4, 5, 6, 7, 8, 9],\n       [0, 1, 2, 3, 4, 5, 6, 7, 8, 9],\n       [0, 1, 2, 3, 4, 5, 6, 7, 8, 9],\n       [0, 1, 2, 3, 4, 5, 6, 7, 8, 9],\n       [0, 1, 2, 3, 4, 5, 6, 7, 8, 9]])"
     },
     "execution_count": 86,
     "metadata": {},
     "output_type": "execute_result"
    }
   ],
   "source": [
    "import numpy as np\n",
    "array_1=np.arange(0,10).reshape(10,1)\n",
    "na_l=np.repeat(array_1,repeats=10,axis=1)\n",
    "na_l.T"
   ],
   "metadata": {
    "collapsed": false,
    "ExecuteTime": {
     "end_time": "2023-09-10T15:00:58.999654Z",
     "start_time": "2023-09-10T15:00:58.793755900Z"
    }
   },
   "id": "25f37083219c1ffb"
  },
  {
   "cell_type": "code",
   "execution_count": 87,
   "outputs": [
    {
     "name": "stdout",
     "output_type": "stream",
     "text": [
      "[[[ 0  1  2]\n",
      "  [ 3  4  5]]\n",
      "\n",
      " [[ 6  7  8]\n",
      "  [ 9 10 11]]\n",
      "\n",
      " [[12 13 14]\n",
      "  [15 16 17]]\n",
      "\n",
      " [[18 19 20]\n",
      "  [21 22 23]]]\n"
     ]
    },
    {
     "data": {
      "text/plain": "(4, 1, 1, 2, 3)"
     },
     "execution_count": 87,
     "metadata": {},
     "output_type": "execute_result"
    }
   ],
   "source": [
    "target=np.arange(24).reshape((4,2,3))\n",
    "print(target)\n",
    "target[:,np.newaxis,np.newaxis].shape"
   ],
   "metadata": {
    "collapsed": false,
    "ExecuteTime": {
     "end_time": "2023-09-10T15:00:59.000653500Z",
     "start_time": "2023-09-10T15:00:58.800730300Z"
    }
   },
   "id": "c2b88076113a46f8"
  },
  {
   "cell_type": "code",
   "execution_count": 88,
   "outputs": [
    {
     "name": "stdout",
     "output_type": "stream",
     "text": [
      "[[24 54 52 47 21 54 30 68 36 40]\n",
      " [10 74 42 24  4 47 91 51  4 32]\n",
      " [10 11 28 46 72 40 62 86 98 45]\n",
      " [35 35 89 34  6 37  1 76 35 70]\n",
      " [54 81 63  9 62  2 82 36 92 41]\n",
      " [37 49 26 68 36 31 30 34 19 18]\n",
      " [94 85  3 70 13 45 67 92 86 40]\n",
      " [40 76 23 31 18 71 72 19 93 44]\n",
      " [84 50 42 94 47 22 74 90 97 92]\n",
      " [74 29 82 59  1 87 64 17 37 95]]\n",
      "[[7.78111842e-20 8.53304727e-17 1.05305527e-20 5.74950924e-19\n",
      "  1.46239541e-31 8.31528714e-07 1.41206123e-28 1.38879433e-11\n",
      "  3.04635994e-27 1.29914267e-24]\n",
      " [6.47022343e-26 4.13993755e-08 4.78086351e-25 5.90007717e-29\n",
      "  6.05422592e-39 7.58256039e-10 4.38345876e-02 5.74952202e-19\n",
      "  3.85796066e-41 4.35813815e-28]\n",
      " [6.47022343e-26 1.80485131e-35 3.97542531e-31 2.11512624e-19\n",
      "  2.06102563e-09 6.91440007e-13 1.11500535e-14 9.11881927e-04\n",
      "  2.57062717e+00 1.92809868e-22]\n",
      " [4.65887787e-15 4.78089269e-25 1.23409046e-04 1.29957848e-24\n",
      "  4.47350149e-38 3.44247709e-14 3.59181164e-41 4.13993754e-08\n",
      "  1.12069319e-27 1.38832552e-11]\n",
      " [8.31527242e-07 4.53999279e-05 6.30507802e-16 1.80484730e-35\n",
      "  9.35704188e-14 2.17052200e-29 5.40961786e-06 1.75879213e-25\n",
      "  6.37194769e-03 3.53143592e-24]\n",
      " [3.44247099e-14 5.74952203e-19 5.38015310e-32 7.58254325e-10\n",
      "  4.78059600e-25 8.53304758e-17 1.41206123e-28 2.38026631e-26\n",
      "  1.26117404e-34 3.62391704e-34]\n",
      " [1.95729262e+11 2.47875207e-03 5.52104835e-42 5.60278374e-09\n",
      "  4.90579007e-35 1.02618796e-10 1.65481466e-12 3.67879426e-01\n",
      "  1.57944792e-05 1.29914267e-24]\n",
      " [6.91438782e-13 3.05902308e-07 2.67862050e-33 6.47022026e-26\n",
      "  7.28083803e-33 2.00855368e+01 2.45596271e-10 7.28128987e-33\n",
      "  1.73207496e-02 7.09307866e-23]\n",
      " [8.88609474e+06 1.56288212e-18 4.78086351e-25 1.48412823e+02\n",
      "  2.86234082e-20 1.05306173e-20 1.81472462e-09 4.97870663e-02\n",
      "  9.45680886e-01 4.97702598e-02]\n",
      " [4.03428077e+02 1.18506482e-27 1.12534483e-07 9.35760177e-14\n",
      "  3.01422160e-40 1.78482300e+08 8.23883705e-14 9.85415427e-34\n",
      "  8.28086486e-27 9.99662390e-01]]\n"
     ]
    }
   ],
   "source": [
    "import numpy as np\n",
    "da_11=np.random.randint(1,100,size=(10,10))\n",
    "print(da_11)\n",
    "da_softmax=np.exp(da_11)/np.sum(np.exp(da_11),axis=1)\n",
    "print(da_softmax)"
   ],
   "metadata": {
    "collapsed": false,
    "ExecuteTime": {
     "end_time": "2023-09-10T15:00:59.001653700Z",
     "start_time": "2023-09-10T15:00:58.808491400Z"
    }
   },
   "id": "1e77363dd6dc0385"
  },
  {
   "cell_type": "code",
   "execution_count": 89,
   "outputs": [
    {
     "data": {
      "text/plain": "array([[0, 0, 1, 0, 0],\n       [0, 0, 1, 0, 0],\n       [0, 0, 0, 1, 0],\n       [0, 1, 0, 0, 0]])"
     },
     "execution_count": 89,
     "metadata": {},
     "output_type": "execute_result"
    }
   ],
   "source": [
    "da_12=np.random.randint(0,100,size=(4,5))\n",
    "np.where(np.amax(da_12,axis=1)[:,None]==da_12,1,0)"
   ],
   "metadata": {
    "collapsed": false,
    "ExecuteTime": {
     "end_time": "2023-09-10T15:00:59.002653700Z",
     "start_time": "2023-09-10T15:00:58.816255200Z"
    }
   },
   "id": "3e85e26ce36cef20"
  },
  {
   "cell_type": "code",
   "execution_count": 90,
   "outputs": [
    {
     "data": {
      "text/plain": "array([ True,  True,  True,  True,  True,  True,  True,  True,  True,\n        True,  True,  True,  True,  True,  True,  True,  True,  True,\n        True,  True,  True,  True,  True,  True,  True,  True,  True,\n        True,  True,  True,  True,  True,  True,  True,  True,  True,\n        True,  True,  True,  True,  True,  True,  True,  True,  True,\n        True,  True,  True,  True,  True,  True,  True,  True,  True,\n        True,  True,  True,  True,  True,  True,  True,  True,  True,\n        True,  True,  True,  True,  True,  True,  True,  True,  True,\n        True,  True,  True,  True,  True,  True,  True,  True,  True,\n        True,  True,  True,  True,  True,  True,  True,  True,  True,\n        True,  True,  True,  True,  True,  True,  True,  True,  True,\n        True,  True,  True,  True,  True,  True,  True,  True,  True,\n        True,  True,  True,  True,  True,  True,  True,  True,  True,\n        True,  True,  True,  True,  True,  True,  True,  True,  True,\n        True,  True,  True,  True,  True,  True,  True,  True,  True,\n        True,  True,  True,  True,  True,  True,  True,  True,  True,\n        True,  True,  True,  True,  True,  True,  True,  True,  True,\n        True,  True,  True,  True,  True,  True,  True,  True,  True,\n        True,  True,  True,  True,  True,  True,  True,  True,  True,\n        True,  True,  True,  True,  True,  True,  True,  True,  True,\n        True,  True,  True,  True,  True,  True,  True,  True,  True,\n        True,  True,  True,  True,  True,  True,  True,  True,  True,\n        True,  True,  True,  True,  True,  True,  True,  True,  True,\n        True,  True,  True,  True,  True,  True,  True,  True,  True,\n        True,  True,  True,  True,  True,  True,  True,  True,  True,\n        True,  True,  True,  True,  True,  True,  True,  True,  True,\n        True,  True,  True,  True,  True,  True,  True,  True,  True,\n        True,  True,  True,  True,  True,  True,  True,  True,  True,\n        True,  True,  True,  True,  True,  True,  True,  True,  True,\n        True,  True,  True,  True,  True,  True,  True,  True,  True,\n        True,  True,  True,  True,  True,  True,  True,  True,  True,\n        True,  True,  True,  True,  True,  True,  True,  True,  True,\n        True,  True,  True,  True,  True,  True,  True,  True,  True,\n        True,  True,  True,  True,  True,  True,  True,  True,  True,\n        True,  True,  True,  True,  True,  True,  True,  True,  True,\n        True,  True,  True,  True,  True,  True,  True,  True,  True,\n        True,  True,  True,  True,  True,  True,  True,  True,  True,\n        True,  True,  True,  True,  True,  True,  True,  True,  True,\n        True,  True,  True,  True,  True,  True,  True,  True,  True,\n        True,  True,  True,  True,  True,  True,  True,  True,  True,\n        True,  True,  True,  True,  True,  True,  True,  True,  True,\n        True,  True,  True,  True,  True,  True,  True,  True,  True,\n        True,  True,  True,  True,  True,  True,  True,  True,  True,\n        True,  True,  True,  True,  True,  True,  True,  True,  True,\n        True,  True,  True,  True,  True,  True,  True,  True,  True,\n        True,  True,  True,  True,  True,  True,  True,  True,  True,\n        True,  True,  True,  True,  True,  True,  True,  True,  True,\n        True,  True,  True,  True,  True,  True,  True,  True,  True,\n        True,  True,  True,  True,  True,  True,  True,  True,  True,\n        True,  True,  True,  True,  True,  True,  True,  True,  True,\n        True,  True,  True,  True,  True,  True,  True,  True,  True,\n        True,  True,  True,  True,  True,  True,  True,  True,  True,\n        True,  True,  True,  True,  True,  True,  True,  True,  True,\n        True,  True,  True,  True,  True,  True,  True,  True,  True,\n        True,  True,  True,  True,  True,  True,  True,  True,  True,\n        True,  True,  True,  True,  True,  True,  True,  True,  True,\n        True,  True,  True,  True,  True,  True,  True,  True,  True,\n        True,  True,  True,  True,  True,  True,  True,  True,  True,\n        True,  True,  True,  True,  True,  True,  True,  True,  True,\n        True,  True,  True,  True,  True,  True,  True,  True,  True,\n        True,  True,  True,  True,  True,  True,  True,  True,  True,\n        True,  True,  True,  True,  True,  True,  True,  True,  True,\n        True,  True,  True,  True,  True,  True,  True,  True,  True,\n        True,  True,  True,  True,  True,  True,  True,  True,  True,\n        True,  True,  True,  True,  True,  True,  True,  True,  True,\n        True,  True,  True,  True,  True,  True,  True,  True,  True,\n        True,  True,  True,  True,  True,  True,  True,  True,  True,\n        True,  True,  True,  True,  True,  True,  True,  True,  True,\n        True,  True,  True,  True,  True,  True,  True,  True,  True,\n        True,  True,  True,  True,  True,  True,  True,  True,  True,\n        True,  True,  True,  True,  True,  True,  True,  True,  True,\n        True,  True,  True,  True,  True,  True,  True,  True,  True,\n        True,  True,  True,  True,  True,  True,  True,  True,  True,\n        True,  True,  True,  True,  True,  True,  True,  True,  True,\n        True,  True,  True,  True,  True,  True,  True,  True,  True,\n        True,  True,  True,  True,  True,  True,  True,  True,  True,\n        True,  True,  True,  True,  True,  True,  True,  True,  True,\n        True,  True,  True,  True,  True,  True,  True,  True,  True,\n        True,  True,  True,  True,  True,  True,  True,  True,  True,\n        True,  True,  True,  True,  True,  True,  True,  True])"
     },
     "execution_count": 90,
     "metadata": {},
     "output_type": "execute_result"
    }
   ],
   "source": [
    "da_array=np.random.rand(1000,3)\n",
    "res=da_array[(da_array.sum(axis=1)<=1.5)|((da_array[:,0]>0.5) & (da_array[:,2]>0.5))]\n",
    "(res.sum(axis=1)<=1.5)|(res[:,[0,2]]>0.5).all(axis=1)"
   ],
   "metadata": {
    "collapsed": false,
    "ExecuteTime": {
     "end_time": "2023-09-10T15:00:59.004653700Z",
     "start_time": "2023-09-10T15:00:58.825999100Z"
    }
   },
   "id": "d3ee0eeabaea72fe"
  },
  {
   "cell_type": "code",
   "execution_count": 91,
   "outputs": [
    {
     "data": {
      "text/plain": "array([[0., 1., 1.],\n       [0., 0., 1.],\n       [1., 1., 0.],\n       ...,\n       [1., 0., 0.],\n       [0., 1., 0.],\n       [0., 1., 0.]])"
     },
     "execution_count": 91,
     "metadata": {},
     "output_type": "execute_result"
    }
   ],
   "source": [
    "da_r=np.round(da_array)\n",
    "((da_r==0)|(da_r==1)).all()\n",
    "da_r[da_r.sum(axis=1)<=1]\n",
    "da_r[da_r.sum(axis=1)!=3]\n",
    "da_r[(da_r.sum(axis=1)!=0)&(da_r.sum(axis=1)!=3)]"
   ],
   "metadata": {
    "collapsed": false,
    "ExecuteTime": {
     "end_time": "2023-09-10T15:00:59.025654400Z",
     "start_time": "2023-09-10T15:00:58.834483500Z"
    }
   },
   "id": "14a1aa737e3129a5"
  },
  {
   "cell_type": "code",
   "execution_count": 92,
   "outputs": [
    {
     "name": "stdout",
     "output_type": "stream",
     "text": [
      "[[6.5 3.5 3.5]\n",
      " [6.5 6.5 6.5]\n",
      " [3.5 3.5 3.5]\n",
      " [6.5 6.5 3.5]]\n",
      "[[6.5 3.5 3.5]\n",
      " [6.5 6.5 6.5]\n",
      " [3.5 3.5 3.5]\n",
      " [6.5 6.5 3.5]]\n"
     ]
    },
    {
     "data": {
      "text/plain": "True"
     },
     "execution_count": 92,
     "metadata": {},
     "output_type": "execute_result"
    }
   ],
   "source": [
    "da_14=np.random.randint(0,10,size=(4,3))\n",
    "da_clip_1=np.clip(da_14,3.5,6.5)\n",
    "da_clip_t=np.where(da_14<3.5,3.5,da_14)\n",
    "da_clip_2=np.where(da_clip_t>6.5,6.5,da_clip_t)\n",
    "print(da_clip_1)\n",
    "print(da_clip_2)\n",
    "(da_clip_1==da_clip_2).all()"
   ],
   "metadata": {
    "collapsed": false,
    "ExecuteTime": {
     "end_time": "2023-09-10T15:00:59.026646300Z",
     "start_time": "2023-09-10T15:00:58.844574600Z"
    }
   },
   "id": "c34a64c21ea9b199"
  },
  {
   "cell_type": "code",
   "execution_count": 93,
   "outputs": [
    {
     "name": "stdout",
     "output_type": "stream",
     "text": [
      "[[0 1 0]\n",
      " [1 1 2]\n",
      " [0 2 0]]\n"
     ]
    },
    {
     "data": {
      "text/plain": "array([1, 1, 1, 2, 2])"
     },
     "execution_count": 93,
     "metadata": {},
     "output_type": "execute_result"
    }
   ],
   "source": [
    "np.random.seed(0)\n",
    "da_15=np.random.randint(0,3,size=(3,3))\n",
    "print(da_15)\n",
    "da_15[np.nonzero(da_15)]"
   ],
   "metadata": {
    "collapsed": false,
    "ExecuteTime": {
     "end_time": "2023-09-10T15:00:59.027654200Z",
     "start_time": "2023-09-10T15:00:58.853170500Z"
    }
   },
   "id": "dbc45e2946969efa"
  },
  {
   "cell_type": "markdown",
   "source": [
    "## 1.3 习题"
   ],
   "metadata": {
    "collapsed": false
   },
   "id": "f1490d08b7621ec6"
  },
  {
   "cell_type": "code",
   "execution_count": 94,
   "outputs": [
    {
     "name": "stdout",
     "output_type": "stream",
     "text": [
      "[[10 13]\n",
      " [28 40]]\n",
      "[[10, 13], [28, 40]]\n"
     ]
    }
   ],
   "source": [
    "a=np.arange(6).reshape(2,3)\n",
    "b=np.arange(6).reshape(3,2)\n",
    "c=[[(a[i,:]*(b[:,j])).sum() for j in range(2)] for i in range(2)]\n",
    "print(a@b)\n",
    "print(c)"
   ],
   "metadata": {
    "collapsed": false,
    "ExecuteTime": {
     "end_time": "2023-09-10T15:00:59.027654200Z",
     "start_time": "2023-09-10T15:00:58.861434200Z"
    }
   },
   "id": "87207ec05f9fa4f1"
  },
  {
   "cell_type": "code",
   "execution_count": 95,
   "outputs": [
    {
     "data": {
      "text/plain": "11.842696601945802"
     },
     "execution_count": 95,
     "metadata": {},
     "output_type": "execute_result"
    }
   ],
   "source": [
    "np.random.seed(0)\n",
    "A=np.random.randint(10,20,(8,5))\n",
    "B=(A.sum(1)[:,None].dot(A.sum(0).reshape(1,5)))/A.sum()\n",
    "kar_t=((A-B)**2/B).sum()\n",
    "kar_t"
   ],
   "metadata": {
    "collapsed": false,
    "ExecuteTime": {
     "end_time": "2023-09-10T15:00:59.027654200Z",
     "start_time": "2023-09-10T15:00:58.869344200Z"
    }
   },
   "id": "77ffe7f37027a417"
  },
  {
   "cell_type": "code",
   "execution_count": 96,
   "outputs": [],
   "source": [
    "np.random.seed(0)\n",
    "data_Y_M=np.random.randint(100,200,size=(20,12))\n",
    "data_Y_Q=np.sum(np.split(data_Y_M,3,1),axis=0)"
   ],
   "metadata": {
    "collapsed": false,
    "ExecuteTime": {
     "end_time": "2023-09-10T15:00:59.027654200Z",
     "start_time": "2023-09-10T15:00:58.876879500Z"
    }
   },
   "id": "9188042654d60ab2"
  }
 ],
 "metadata": {
  "kernelspec": {
   "display_name": "Python 3",
   "language": "python",
   "name": "python3"
  },
  "language_info": {
   "codemirror_mode": {
    "name": "ipython",
    "version": 2
   },
   "file_extension": ".py",
   "mimetype": "text/x-python",
   "name": "python",
   "nbconvert_exporter": "python",
   "pygments_lexer": "ipython2",
   "version": "2.7.6"
  }
 },
 "nbformat": 4,
 "nbformat_minor": 5
}
